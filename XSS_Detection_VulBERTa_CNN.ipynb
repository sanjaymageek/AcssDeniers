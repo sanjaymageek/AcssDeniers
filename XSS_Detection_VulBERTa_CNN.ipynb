{
  "nbformat": 4,
  "nbformat_minor": 0,
  "metadata": {
    "colab": {
      "provenance": [],
      "collapsed_sections": [
        "Yg3B6e5RhOVZ",
        "PDXLtqcvkg3f",
        "Dmu59QZ2kn-v",
        "sObYeyT4ksdO"
      ],
      "machine_shape": "hm",
      "gpuType": "T4"
    },
    "kernelspec": {
      "name": "python3",
      "display_name": "Python 3"
    },
    "language_info": {
      "name": "python"
    },
    "accelerator": "GPU",
    "widgets": {
      "application/vnd.jupyter.widget-state+json": {
        "ebbf62651c874e3e82732c6120601083": {
          "model_module": "@jupyter-widgets/controls",
          "model_name": "HBoxModel",
          "model_module_version": "1.5.0",
          "state": {
            "_dom_classes": [],
            "_model_module": "@jupyter-widgets/controls",
            "_model_module_version": "1.5.0",
            "_model_name": "HBoxModel",
            "_view_count": null,
            "_view_module": "@jupyter-widgets/controls",
            "_view_module_version": "1.5.0",
            "_view_name": "HBoxView",
            "box_style": "",
            "children": [
              "IPY_MODEL_a51f586b14694f68870644235ef8793e",
              "IPY_MODEL_4532bf84fe5249e59dfb455f6132e9df",
              "IPY_MODEL_c00e61e749634499889fbe989a8f1f4d"
            ],
            "layout": "IPY_MODEL_ca73e76e6b1a42589644f76fe47b7ad2"
          }
        },
        "a51f586b14694f68870644235ef8793e": {
          "model_module": "@jupyter-widgets/controls",
          "model_name": "HTMLModel",
          "model_module_version": "1.5.0",
          "state": {
            "_dom_classes": [],
            "_model_module": "@jupyter-widgets/controls",
            "_model_module_version": "1.5.0",
            "_model_name": "HTMLModel",
            "_view_count": null,
            "_view_module": "@jupyter-widgets/controls",
            "_view_module_version": "1.5.0",
            "_view_name": "HTMLView",
            "description": "",
            "description_tooltip": null,
            "layout": "IPY_MODEL_227cad8c59ca46b5b143affebd194629",
            "placeholder": "​",
            "style": "IPY_MODEL_02aea9a33bfd414784fc0268170919fd",
            "value": "Downloading (…)olve/main/vocab.json: 100%"
          }
        },
        "4532bf84fe5249e59dfb455f6132e9df": {
          "model_module": "@jupyter-widgets/controls",
          "model_name": "FloatProgressModel",
          "model_module_version": "1.5.0",
          "state": {
            "_dom_classes": [],
            "_model_module": "@jupyter-widgets/controls",
            "_model_module_version": "1.5.0",
            "_model_name": "FloatProgressModel",
            "_view_count": null,
            "_view_module": "@jupyter-widgets/controls",
            "_view_module_version": "1.5.0",
            "_view_name": "ProgressView",
            "bar_style": "success",
            "description": "",
            "description_tooltip": null,
            "layout": "IPY_MODEL_6dc5144a4f4d493a953fa4a1e2b41ade",
            "max": 898822,
            "min": 0,
            "orientation": "horizontal",
            "style": "IPY_MODEL_5e02d6a5e84946bd941740dcc02b058f",
            "value": 898822
          }
        },
        "c00e61e749634499889fbe989a8f1f4d": {
          "model_module": "@jupyter-widgets/controls",
          "model_name": "HTMLModel",
          "model_module_version": "1.5.0",
          "state": {
            "_dom_classes": [],
            "_model_module": "@jupyter-widgets/controls",
            "_model_module_version": "1.5.0",
            "_model_name": "HTMLModel",
            "_view_count": null,
            "_view_module": "@jupyter-widgets/controls",
            "_view_module_version": "1.5.0",
            "_view_name": "HTMLView",
            "description": "",
            "description_tooltip": null,
            "layout": "IPY_MODEL_35041e209791488eb0431eefde28c9a5",
            "placeholder": "​",
            "style": "IPY_MODEL_b486944014e2451e8d71acee7cdc197e",
            "value": " 899k/899k [00:00&lt;00:00, 1.31MB/s]"
          }
        },
        "ca73e76e6b1a42589644f76fe47b7ad2": {
          "model_module": "@jupyter-widgets/base",
          "model_name": "LayoutModel",
          "model_module_version": "1.2.0",
          "state": {
            "_model_module": "@jupyter-widgets/base",
            "_model_module_version": "1.2.0",
            "_model_name": "LayoutModel",
            "_view_count": null,
            "_view_module": "@jupyter-widgets/base",
            "_view_module_version": "1.2.0",
            "_view_name": "LayoutView",
            "align_content": null,
            "align_items": null,
            "align_self": null,
            "border": null,
            "bottom": null,
            "display": null,
            "flex": null,
            "flex_flow": null,
            "grid_area": null,
            "grid_auto_columns": null,
            "grid_auto_flow": null,
            "grid_auto_rows": null,
            "grid_column": null,
            "grid_gap": null,
            "grid_row": null,
            "grid_template_areas": null,
            "grid_template_columns": null,
            "grid_template_rows": null,
            "height": null,
            "justify_content": null,
            "justify_items": null,
            "left": null,
            "margin": null,
            "max_height": null,
            "max_width": null,
            "min_height": null,
            "min_width": null,
            "object_fit": null,
            "object_position": null,
            "order": null,
            "overflow": null,
            "overflow_x": null,
            "overflow_y": null,
            "padding": null,
            "right": null,
            "top": null,
            "visibility": null,
            "width": null
          }
        },
        "227cad8c59ca46b5b143affebd194629": {
          "model_module": "@jupyter-widgets/base",
          "model_name": "LayoutModel",
          "model_module_version": "1.2.0",
          "state": {
            "_model_module": "@jupyter-widgets/base",
            "_model_module_version": "1.2.0",
            "_model_name": "LayoutModel",
            "_view_count": null,
            "_view_module": "@jupyter-widgets/base",
            "_view_module_version": "1.2.0",
            "_view_name": "LayoutView",
            "align_content": null,
            "align_items": null,
            "align_self": null,
            "border": null,
            "bottom": null,
            "display": null,
            "flex": null,
            "flex_flow": null,
            "grid_area": null,
            "grid_auto_columns": null,
            "grid_auto_flow": null,
            "grid_auto_rows": null,
            "grid_column": null,
            "grid_gap": null,
            "grid_row": null,
            "grid_template_areas": null,
            "grid_template_columns": null,
            "grid_template_rows": null,
            "height": null,
            "justify_content": null,
            "justify_items": null,
            "left": null,
            "margin": null,
            "max_height": null,
            "max_width": null,
            "min_height": null,
            "min_width": null,
            "object_fit": null,
            "object_position": null,
            "order": null,
            "overflow": null,
            "overflow_x": null,
            "overflow_y": null,
            "padding": null,
            "right": null,
            "top": null,
            "visibility": null,
            "width": null
          }
        },
        "02aea9a33bfd414784fc0268170919fd": {
          "model_module": "@jupyter-widgets/controls",
          "model_name": "DescriptionStyleModel",
          "model_module_version": "1.5.0",
          "state": {
            "_model_module": "@jupyter-widgets/controls",
            "_model_module_version": "1.5.0",
            "_model_name": "DescriptionStyleModel",
            "_view_count": null,
            "_view_module": "@jupyter-widgets/base",
            "_view_module_version": "1.2.0",
            "_view_name": "StyleView",
            "description_width": ""
          }
        },
        "6dc5144a4f4d493a953fa4a1e2b41ade": {
          "model_module": "@jupyter-widgets/base",
          "model_name": "LayoutModel",
          "model_module_version": "1.2.0",
          "state": {
            "_model_module": "@jupyter-widgets/base",
            "_model_module_version": "1.2.0",
            "_model_name": "LayoutModel",
            "_view_count": null,
            "_view_module": "@jupyter-widgets/base",
            "_view_module_version": "1.2.0",
            "_view_name": "LayoutView",
            "align_content": null,
            "align_items": null,
            "align_self": null,
            "border": null,
            "bottom": null,
            "display": null,
            "flex": null,
            "flex_flow": null,
            "grid_area": null,
            "grid_auto_columns": null,
            "grid_auto_flow": null,
            "grid_auto_rows": null,
            "grid_column": null,
            "grid_gap": null,
            "grid_row": null,
            "grid_template_areas": null,
            "grid_template_columns": null,
            "grid_template_rows": null,
            "height": null,
            "justify_content": null,
            "justify_items": null,
            "left": null,
            "margin": null,
            "max_height": null,
            "max_width": null,
            "min_height": null,
            "min_width": null,
            "object_fit": null,
            "object_position": null,
            "order": null,
            "overflow": null,
            "overflow_x": null,
            "overflow_y": null,
            "padding": null,
            "right": null,
            "top": null,
            "visibility": null,
            "width": null
          }
        },
        "5e02d6a5e84946bd941740dcc02b058f": {
          "model_module": "@jupyter-widgets/controls",
          "model_name": "ProgressStyleModel",
          "model_module_version": "1.5.0",
          "state": {
            "_model_module": "@jupyter-widgets/controls",
            "_model_module_version": "1.5.0",
            "_model_name": "ProgressStyleModel",
            "_view_count": null,
            "_view_module": "@jupyter-widgets/base",
            "_view_module_version": "1.2.0",
            "_view_name": "StyleView",
            "bar_color": null,
            "description_width": ""
          }
        },
        "35041e209791488eb0431eefde28c9a5": {
          "model_module": "@jupyter-widgets/base",
          "model_name": "LayoutModel",
          "model_module_version": "1.2.0",
          "state": {
            "_model_module": "@jupyter-widgets/base",
            "_model_module_version": "1.2.0",
            "_model_name": "LayoutModel",
            "_view_count": null,
            "_view_module": "@jupyter-widgets/base",
            "_view_module_version": "1.2.0",
            "_view_name": "LayoutView",
            "align_content": null,
            "align_items": null,
            "align_self": null,
            "border": null,
            "bottom": null,
            "display": null,
            "flex": null,
            "flex_flow": null,
            "grid_area": null,
            "grid_auto_columns": null,
            "grid_auto_flow": null,
            "grid_auto_rows": null,
            "grid_column": null,
            "grid_gap": null,
            "grid_row": null,
            "grid_template_areas": null,
            "grid_template_columns": null,
            "grid_template_rows": null,
            "height": null,
            "justify_content": null,
            "justify_items": null,
            "left": null,
            "margin": null,
            "max_height": null,
            "max_width": null,
            "min_height": null,
            "min_width": null,
            "object_fit": null,
            "object_position": null,
            "order": null,
            "overflow": null,
            "overflow_x": null,
            "overflow_y": null,
            "padding": null,
            "right": null,
            "top": null,
            "visibility": null,
            "width": null
          }
        },
        "b486944014e2451e8d71acee7cdc197e": {
          "model_module": "@jupyter-widgets/controls",
          "model_name": "DescriptionStyleModel",
          "model_module_version": "1.5.0",
          "state": {
            "_model_module": "@jupyter-widgets/controls",
            "_model_module_version": "1.5.0",
            "_model_name": "DescriptionStyleModel",
            "_view_count": null,
            "_view_module": "@jupyter-widgets/base",
            "_view_module_version": "1.2.0",
            "_view_name": "StyleView",
            "description_width": ""
          }
        },
        "8fce09f8a4cf4ea58b04424b653f434a": {
          "model_module": "@jupyter-widgets/controls",
          "model_name": "HBoxModel",
          "model_module_version": "1.5.0",
          "state": {
            "_dom_classes": [],
            "_model_module": "@jupyter-widgets/controls",
            "_model_module_version": "1.5.0",
            "_model_name": "HBoxModel",
            "_view_count": null,
            "_view_module": "@jupyter-widgets/controls",
            "_view_module_version": "1.5.0",
            "_view_name": "HBoxView",
            "box_style": "",
            "children": [
              "IPY_MODEL_275784865fe64e0dae12c373fd56c719",
              "IPY_MODEL_52e91390fbc54e90b9966e66ec7e4010",
              "IPY_MODEL_3266c790218c492494f894fc1dd24751"
            ],
            "layout": "IPY_MODEL_05cd127984a546f3949f60bfb6301f9a"
          }
        },
        "275784865fe64e0dae12c373fd56c719": {
          "model_module": "@jupyter-widgets/controls",
          "model_name": "HTMLModel",
          "model_module_version": "1.5.0",
          "state": {
            "_dom_classes": [],
            "_model_module": "@jupyter-widgets/controls",
            "_model_module_version": "1.5.0",
            "_model_name": "HTMLModel",
            "_view_count": null,
            "_view_module": "@jupyter-widgets/controls",
            "_view_module_version": "1.5.0",
            "_view_name": "HTMLView",
            "description": "",
            "description_tooltip": null,
            "layout": "IPY_MODEL_73f3c18b3180419bbf4c071a6447d788",
            "placeholder": "​",
            "style": "IPY_MODEL_289a70b2445d4eb1b15cddd3388ba733",
            "value": "Downloading (…)olve/main/merges.txt: 100%"
          }
        },
        "52e91390fbc54e90b9966e66ec7e4010": {
          "model_module": "@jupyter-widgets/controls",
          "model_name": "FloatProgressModel",
          "model_module_version": "1.5.0",
          "state": {
            "_dom_classes": [],
            "_model_module": "@jupyter-widgets/controls",
            "_model_module_version": "1.5.0",
            "_model_name": "FloatProgressModel",
            "_view_count": null,
            "_view_module": "@jupyter-widgets/controls",
            "_view_module_version": "1.5.0",
            "_view_name": "ProgressView",
            "bar_style": "success",
            "description": "",
            "description_tooltip": null,
            "layout": "IPY_MODEL_ec44117ceb1141758c102b131c463c8c",
            "max": 456318,
            "min": 0,
            "orientation": "horizontal",
            "style": "IPY_MODEL_7d12cdb4b6bb40ac9fb19e0d1a767cd2",
            "value": 456318
          }
        },
        "3266c790218c492494f894fc1dd24751": {
          "model_module": "@jupyter-widgets/controls",
          "model_name": "HTMLModel",
          "model_module_version": "1.5.0",
          "state": {
            "_dom_classes": [],
            "_model_module": "@jupyter-widgets/controls",
            "_model_module_version": "1.5.0",
            "_model_name": "HTMLModel",
            "_view_count": null,
            "_view_module": "@jupyter-widgets/controls",
            "_view_module_version": "1.5.0",
            "_view_name": "HTMLView",
            "description": "",
            "description_tooltip": null,
            "layout": "IPY_MODEL_197a2f451f25409e97e388149cb4e532",
            "placeholder": "​",
            "style": "IPY_MODEL_485de68ec3a34537a3bf22cffbb2bf9a",
            "value": " 456k/456k [00:00&lt;00:00, 897kB/s]"
          }
        },
        "05cd127984a546f3949f60bfb6301f9a": {
          "model_module": "@jupyter-widgets/base",
          "model_name": "LayoutModel",
          "model_module_version": "1.2.0",
          "state": {
            "_model_module": "@jupyter-widgets/base",
            "_model_module_version": "1.2.0",
            "_model_name": "LayoutModel",
            "_view_count": null,
            "_view_module": "@jupyter-widgets/base",
            "_view_module_version": "1.2.0",
            "_view_name": "LayoutView",
            "align_content": null,
            "align_items": null,
            "align_self": null,
            "border": null,
            "bottom": null,
            "display": null,
            "flex": null,
            "flex_flow": null,
            "grid_area": null,
            "grid_auto_columns": null,
            "grid_auto_flow": null,
            "grid_auto_rows": null,
            "grid_column": null,
            "grid_gap": null,
            "grid_row": null,
            "grid_template_areas": null,
            "grid_template_columns": null,
            "grid_template_rows": null,
            "height": null,
            "justify_content": null,
            "justify_items": null,
            "left": null,
            "margin": null,
            "max_height": null,
            "max_width": null,
            "min_height": null,
            "min_width": null,
            "object_fit": null,
            "object_position": null,
            "order": null,
            "overflow": null,
            "overflow_x": null,
            "overflow_y": null,
            "padding": null,
            "right": null,
            "top": null,
            "visibility": null,
            "width": null
          }
        },
        "73f3c18b3180419bbf4c071a6447d788": {
          "model_module": "@jupyter-widgets/base",
          "model_name": "LayoutModel",
          "model_module_version": "1.2.0",
          "state": {
            "_model_module": "@jupyter-widgets/base",
            "_model_module_version": "1.2.0",
            "_model_name": "LayoutModel",
            "_view_count": null,
            "_view_module": "@jupyter-widgets/base",
            "_view_module_version": "1.2.0",
            "_view_name": "LayoutView",
            "align_content": null,
            "align_items": null,
            "align_self": null,
            "border": null,
            "bottom": null,
            "display": null,
            "flex": null,
            "flex_flow": null,
            "grid_area": null,
            "grid_auto_columns": null,
            "grid_auto_flow": null,
            "grid_auto_rows": null,
            "grid_column": null,
            "grid_gap": null,
            "grid_row": null,
            "grid_template_areas": null,
            "grid_template_columns": null,
            "grid_template_rows": null,
            "height": null,
            "justify_content": null,
            "justify_items": null,
            "left": null,
            "margin": null,
            "max_height": null,
            "max_width": null,
            "min_height": null,
            "min_width": null,
            "object_fit": null,
            "object_position": null,
            "order": null,
            "overflow": null,
            "overflow_x": null,
            "overflow_y": null,
            "padding": null,
            "right": null,
            "top": null,
            "visibility": null,
            "width": null
          }
        },
        "289a70b2445d4eb1b15cddd3388ba733": {
          "model_module": "@jupyter-widgets/controls",
          "model_name": "DescriptionStyleModel",
          "model_module_version": "1.5.0",
          "state": {
            "_model_module": "@jupyter-widgets/controls",
            "_model_module_version": "1.5.0",
            "_model_name": "DescriptionStyleModel",
            "_view_count": null,
            "_view_module": "@jupyter-widgets/base",
            "_view_module_version": "1.2.0",
            "_view_name": "StyleView",
            "description_width": ""
          }
        },
        "ec44117ceb1141758c102b131c463c8c": {
          "model_module": "@jupyter-widgets/base",
          "model_name": "LayoutModel",
          "model_module_version": "1.2.0",
          "state": {
            "_model_module": "@jupyter-widgets/base",
            "_model_module_version": "1.2.0",
            "_model_name": "LayoutModel",
            "_view_count": null,
            "_view_module": "@jupyter-widgets/base",
            "_view_module_version": "1.2.0",
            "_view_name": "LayoutView",
            "align_content": null,
            "align_items": null,
            "align_self": null,
            "border": null,
            "bottom": null,
            "display": null,
            "flex": null,
            "flex_flow": null,
            "grid_area": null,
            "grid_auto_columns": null,
            "grid_auto_flow": null,
            "grid_auto_rows": null,
            "grid_column": null,
            "grid_gap": null,
            "grid_row": null,
            "grid_template_areas": null,
            "grid_template_columns": null,
            "grid_template_rows": null,
            "height": null,
            "justify_content": null,
            "justify_items": null,
            "left": null,
            "margin": null,
            "max_height": null,
            "max_width": null,
            "min_height": null,
            "min_width": null,
            "object_fit": null,
            "object_position": null,
            "order": null,
            "overflow": null,
            "overflow_x": null,
            "overflow_y": null,
            "padding": null,
            "right": null,
            "top": null,
            "visibility": null,
            "width": null
          }
        },
        "7d12cdb4b6bb40ac9fb19e0d1a767cd2": {
          "model_module": "@jupyter-widgets/controls",
          "model_name": "ProgressStyleModel",
          "model_module_version": "1.5.0",
          "state": {
            "_model_module": "@jupyter-widgets/controls",
            "_model_module_version": "1.5.0",
            "_model_name": "ProgressStyleModel",
            "_view_count": null,
            "_view_module": "@jupyter-widgets/base",
            "_view_module_version": "1.2.0",
            "_view_name": "StyleView",
            "bar_color": null,
            "description_width": ""
          }
        },
        "197a2f451f25409e97e388149cb4e532": {
          "model_module": "@jupyter-widgets/base",
          "model_name": "LayoutModel",
          "model_module_version": "1.2.0",
          "state": {
            "_model_module": "@jupyter-widgets/base",
            "_model_module_version": "1.2.0",
            "_model_name": "LayoutModel",
            "_view_count": null,
            "_view_module": "@jupyter-widgets/base",
            "_view_module_version": "1.2.0",
            "_view_name": "LayoutView",
            "align_content": null,
            "align_items": null,
            "align_self": null,
            "border": null,
            "bottom": null,
            "display": null,
            "flex": null,
            "flex_flow": null,
            "grid_area": null,
            "grid_auto_columns": null,
            "grid_auto_flow": null,
            "grid_auto_rows": null,
            "grid_column": null,
            "grid_gap": null,
            "grid_row": null,
            "grid_template_areas": null,
            "grid_template_columns": null,
            "grid_template_rows": null,
            "height": null,
            "justify_content": null,
            "justify_items": null,
            "left": null,
            "margin": null,
            "max_height": null,
            "max_width": null,
            "min_height": null,
            "min_width": null,
            "object_fit": null,
            "object_position": null,
            "order": null,
            "overflow": null,
            "overflow_x": null,
            "overflow_y": null,
            "padding": null,
            "right": null,
            "top": null,
            "visibility": null,
            "width": null
          }
        },
        "485de68ec3a34537a3bf22cffbb2bf9a": {
          "model_module": "@jupyter-widgets/controls",
          "model_name": "DescriptionStyleModel",
          "model_module_version": "1.5.0",
          "state": {
            "_model_module": "@jupyter-widgets/controls",
            "_model_module_version": "1.5.0",
            "_model_name": "DescriptionStyleModel",
            "_view_count": null,
            "_view_module": "@jupyter-widgets/base",
            "_view_module_version": "1.2.0",
            "_view_name": "StyleView",
            "description_width": ""
          }
        },
        "3971a73a50a7450da2dbb2dc7cc2ce33": {
          "model_module": "@jupyter-widgets/controls",
          "model_name": "HBoxModel",
          "model_module_version": "1.5.0",
          "state": {
            "_dom_classes": [],
            "_model_module": "@jupyter-widgets/controls",
            "_model_module_version": "1.5.0",
            "_model_name": "HBoxModel",
            "_view_count": null,
            "_view_module": "@jupyter-widgets/controls",
            "_view_module_version": "1.5.0",
            "_view_name": "HBoxView",
            "box_style": "",
            "children": [
              "IPY_MODEL_d204fb335c274b3882fbaf5f5f3ba8ff",
              "IPY_MODEL_2702140e44034d94ae1cde268b64eca6",
              "IPY_MODEL_5bc987a600c94c22b2e217441464801e"
            ],
            "layout": "IPY_MODEL_5961f31c47bb4c6dbfea104f5e7716ac"
          }
        },
        "d204fb335c274b3882fbaf5f5f3ba8ff": {
          "model_module": "@jupyter-widgets/controls",
          "model_name": "HTMLModel",
          "model_module_version": "1.5.0",
          "state": {
            "_dom_classes": [],
            "_model_module": "@jupyter-widgets/controls",
            "_model_module_version": "1.5.0",
            "_model_name": "HTMLModel",
            "_view_count": null,
            "_view_module": "@jupyter-widgets/controls",
            "_view_module_version": "1.5.0",
            "_view_name": "HTMLView",
            "description": "",
            "description_tooltip": null,
            "layout": "IPY_MODEL_cbe789993b6f47e29c5c427555f57e61",
            "placeholder": "​",
            "style": "IPY_MODEL_40087edfc5ff4ed3a410e71c7a724111",
            "value": "Downloading (…)cial_tokens_map.json: 100%"
          }
        },
        "2702140e44034d94ae1cde268b64eca6": {
          "model_module": "@jupyter-widgets/controls",
          "model_name": "FloatProgressModel",
          "model_module_version": "1.5.0",
          "state": {
            "_dom_classes": [],
            "_model_module": "@jupyter-widgets/controls",
            "_model_module_version": "1.5.0",
            "_model_name": "FloatProgressModel",
            "_view_count": null,
            "_view_module": "@jupyter-widgets/controls",
            "_view_module_version": "1.5.0",
            "_view_name": "ProgressView",
            "bar_style": "success",
            "description": "",
            "description_tooltip": null,
            "layout": "IPY_MODEL_877b0b0a2c4f4a2d91bf49a61412b347",
            "max": 150,
            "min": 0,
            "orientation": "horizontal",
            "style": "IPY_MODEL_665f9f06da04436e84ca58dd1f970cca",
            "value": 150
          }
        },
        "5bc987a600c94c22b2e217441464801e": {
          "model_module": "@jupyter-widgets/controls",
          "model_name": "HTMLModel",
          "model_module_version": "1.5.0",
          "state": {
            "_dom_classes": [],
            "_model_module": "@jupyter-widgets/controls",
            "_model_module_version": "1.5.0",
            "_model_name": "HTMLModel",
            "_view_count": null,
            "_view_module": "@jupyter-widgets/controls",
            "_view_module_version": "1.5.0",
            "_view_name": "HTMLView",
            "description": "",
            "description_tooltip": null,
            "layout": "IPY_MODEL_f6e72446a95c44568bd1f07cf04e8fe7",
            "placeholder": "​",
            "style": "IPY_MODEL_0ef89cdc212c43538e7dc180063e2042",
            "value": " 150/150 [00:00&lt;00:00, 12.0kB/s]"
          }
        },
        "5961f31c47bb4c6dbfea104f5e7716ac": {
          "model_module": "@jupyter-widgets/base",
          "model_name": "LayoutModel",
          "model_module_version": "1.2.0",
          "state": {
            "_model_module": "@jupyter-widgets/base",
            "_model_module_version": "1.2.0",
            "_model_name": "LayoutModel",
            "_view_count": null,
            "_view_module": "@jupyter-widgets/base",
            "_view_module_version": "1.2.0",
            "_view_name": "LayoutView",
            "align_content": null,
            "align_items": null,
            "align_self": null,
            "border": null,
            "bottom": null,
            "display": null,
            "flex": null,
            "flex_flow": null,
            "grid_area": null,
            "grid_auto_columns": null,
            "grid_auto_flow": null,
            "grid_auto_rows": null,
            "grid_column": null,
            "grid_gap": null,
            "grid_row": null,
            "grid_template_areas": null,
            "grid_template_columns": null,
            "grid_template_rows": null,
            "height": null,
            "justify_content": null,
            "justify_items": null,
            "left": null,
            "margin": null,
            "max_height": null,
            "max_width": null,
            "min_height": null,
            "min_width": null,
            "object_fit": null,
            "object_position": null,
            "order": null,
            "overflow": null,
            "overflow_x": null,
            "overflow_y": null,
            "padding": null,
            "right": null,
            "top": null,
            "visibility": null,
            "width": null
          }
        },
        "cbe789993b6f47e29c5c427555f57e61": {
          "model_module": "@jupyter-widgets/base",
          "model_name": "LayoutModel",
          "model_module_version": "1.2.0",
          "state": {
            "_model_module": "@jupyter-widgets/base",
            "_model_module_version": "1.2.0",
            "_model_name": "LayoutModel",
            "_view_count": null,
            "_view_module": "@jupyter-widgets/base",
            "_view_module_version": "1.2.0",
            "_view_name": "LayoutView",
            "align_content": null,
            "align_items": null,
            "align_self": null,
            "border": null,
            "bottom": null,
            "display": null,
            "flex": null,
            "flex_flow": null,
            "grid_area": null,
            "grid_auto_columns": null,
            "grid_auto_flow": null,
            "grid_auto_rows": null,
            "grid_column": null,
            "grid_gap": null,
            "grid_row": null,
            "grid_template_areas": null,
            "grid_template_columns": null,
            "grid_template_rows": null,
            "height": null,
            "justify_content": null,
            "justify_items": null,
            "left": null,
            "margin": null,
            "max_height": null,
            "max_width": null,
            "min_height": null,
            "min_width": null,
            "object_fit": null,
            "object_position": null,
            "order": null,
            "overflow": null,
            "overflow_x": null,
            "overflow_y": null,
            "padding": null,
            "right": null,
            "top": null,
            "visibility": null,
            "width": null
          }
        },
        "40087edfc5ff4ed3a410e71c7a724111": {
          "model_module": "@jupyter-widgets/controls",
          "model_name": "DescriptionStyleModel",
          "model_module_version": "1.5.0",
          "state": {
            "_model_module": "@jupyter-widgets/controls",
            "_model_module_version": "1.5.0",
            "_model_name": "DescriptionStyleModel",
            "_view_count": null,
            "_view_module": "@jupyter-widgets/base",
            "_view_module_version": "1.2.0",
            "_view_name": "StyleView",
            "description_width": ""
          }
        },
        "877b0b0a2c4f4a2d91bf49a61412b347": {
          "model_module": "@jupyter-widgets/base",
          "model_name": "LayoutModel",
          "model_module_version": "1.2.0",
          "state": {
            "_model_module": "@jupyter-widgets/base",
            "_model_module_version": "1.2.0",
            "_model_name": "LayoutModel",
            "_view_count": null,
            "_view_module": "@jupyter-widgets/base",
            "_view_module_version": "1.2.0",
            "_view_name": "LayoutView",
            "align_content": null,
            "align_items": null,
            "align_self": null,
            "border": null,
            "bottom": null,
            "display": null,
            "flex": null,
            "flex_flow": null,
            "grid_area": null,
            "grid_auto_columns": null,
            "grid_auto_flow": null,
            "grid_auto_rows": null,
            "grid_column": null,
            "grid_gap": null,
            "grid_row": null,
            "grid_template_areas": null,
            "grid_template_columns": null,
            "grid_template_rows": null,
            "height": null,
            "justify_content": null,
            "justify_items": null,
            "left": null,
            "margin": null,
            "max_height": null,
            "max_width": null,
            "min_height": null,
            "min_width": null,
            "object_fit": null,
            "object_position": null,
            "order": null,
            "overflow": null,
            "overflow_x": null,
            "overflow_y": null,
            "padding": null,
            "right": null,
            "top": null,
            "visibility": null,
            "width": null
          }
        },
        "665f9f06da04436e84ca58dd1f970cca": {
          "model_module": "@jupyter-widgets/controls",
          "model_name": "ProgressStyleModel",
          "model_module_version": "1.5.0",
          "state": {
            "_model_module": "@jupyter-widgets/controls",
            "_model_module_version": "1.5.0",
            "_model_name": "ProgressStyleModel",
            "_view_count": null,
            "_view_module": "@jupyter-widgets/base",
            "_view_module_version": "1.2.0",
            "_view_name": "StyleView",
            "bar_color": null,
            "description_width": ""
          }
        },
        "f6e72446a95c44568bd1f07cf04e8fe7": {
          "model_module": "@jupyter-widgets/base",
          "model_name": "LayoutModel",
          "model_module_version": "1.2.0",
          "state": {
            "_model_module": "@jupyter-widgets/base",
            "_model_module_version": "1.2.0",
            "_model_name": "LayoutModel",
            "_view_count": null,
            "_view_module": "@jupyter-widgets/base",
            "_view_module_version": "1.2.0",
            "_view_name": "LayoutView",
            "align_content": null,
            "align_items": null,
            "align_self": null,
            "border": null,
            "bottom": null,
            "display": null,
            "flex": null,
            "flex_flow": null,
            "grid_area": null,
            "grid_auto_columns": null,
            "grid_auto_flow": null,
            "grid_auto_rows": null,
            "grid_column": null,
            "grid_gap": null,
            "grid_row": null,
            "grid_template_areas": null,
            "grid_template_columns": null,
            "grid_template_rows": null,
            "height": null,
            "justify_content": null,
            "justify_items": null,
            "left": null,
            "margin": null,
            "max_height": null,
            "max_width": null,
            "min_height": null,
            "min_width": null,
            "object_fit": null,
            "object_position": null,
            "order": null,
            "overflow": null,
            "overflow_x": null,
            "overflow_y": null,
            "padding": null,
            "right": null,
            "top": null,
            "visibility": null,
            "width": null
          }
        },
        "0ef89cdc212c43538e7dc180063e2042": {
          "model_module": "@jupyter-widgets/controls",
          "model_name": "DescriptionStyleModel",
          "model_module_version": "1.5.0",
          "state": {
            "_model_module": "@jupyter-widgets/controls",
            "_model_module_version": "1.5.0",
            "_model_name": "DescriptionStyleModel",
            "_view_count": null,
            "_view_module": "@jupyter-widgets/base",
            "_view_module_version": "1.2.0",
            "_view_name": "StyleView",
            "description_width": ""
          }
        },
        "0ec8c0c3416e4b98a444b28a52ce0390": {
          "model_module": "@jupyter-widgets/controls",
          "model_name": "HBoxModel",
          "model_module_version": "1.5.0",
          "state": {
            "_dom_classes": [],
            "_model_module": "@jupyter-widgets/controls",
            "_model_module_version": "1.5.0",
            "_model_name": "HBoxModel",
            "_view_count": null,
            "_view_module": "@jupyter-widgets/controls",
            "_view_module_version": "1.5.0",
            "_view_name": "HBoxView",
            "box_style": "",
            "children": [
              "IPY_MODEL_7e04cf3a2e694d9d803365d235aa5328",
              "IPY_MODEL_21344c0565b844b595a58bb6a6c4a115",
              "IPY_MODEL_1234c71523904533a8fdd12264787257"
            ],
            "layout": "IPY_MODEL_88de0072733d4a6898059c02c45b397c"
          }
        },
        "7e04cf3a2e694d9d803365d235aa5328": {
          "model_module": "@jupyter-widgets/controls",
          "model_name": "HTMLModel",
          "model_module_version": "1.5.0",
          "state": {
            "_dom_classes": [],
            "_model_module": "@jupyter-widgets/controls",
            "_model_module_version": "1.5.0",
            "_model_name": "HTMLModel",
            "_view_count": null,
            "_view_module": "@jupyter-widgets/controls",
            "_view_module_version": "1.5.0",
            "_view_name": "HTMLView",
            "description": "",
            "description_tooltip": null,
            "layout": "IPY_MODEL_c853fc80b1814265befdffe44708a824",
            "placeholder": "​",
            "style": "IPY_MODEL_3b1ae9b0b32042fc9302d036f80607a9",
            "value": "Downloading (…)lve/main/config.json: 100%"
          }
        },
        "21344c0565b844b595a58bb6a6c4a115": {
          "model_module": "@jupyter-widgets/controls",
          "model_name": "FloatProgressModel",
          "model_module_version": "1.5.0",
          "state": {
            "_dom_classes": [],
            "_model_module": "@jupyter-widgets/controls",
            "_model_module_version": "1.5.0",
            "_model_name": "FloatProgressModel",
            "_view_count": null,
            "_view_module": "@jupyter-widgets/controls",
            "_view_module_version": "1.5.0",
            "_view_name": "ProgressView",
            "bar_style": "success",
            "description": "",
            "description_tooltip": null,
            "layout": "IPY_MODEL_800c6b4f494f48b8af9345aad98d2612",
            "max": 768,
            "min": 0,
            "orientation": "horizontal",
            "style": "IPY_MODEL_f6686ce8ebfa43b59d54be25832edfaa",
            "value": 768
          }
        },
        "1234c71523904533a8fdd12264787257": {
          "model_module": "@jupyter-widgets/controls",
          "model_name": "HTMLModel",
          "model_module_version": "1.5.0",
          "state": {
            "_dom_classes": [],
            "_model_module": "@jupyter-widgets/controls",
            "_model_module_version": "1.5.0",
            "_model_name": "HTMLModel",
            "_view_count": null,
            "_view_module": "@jupyter-widgets/controls",
            "_view_module_version": "1.5.0",
            "_view_name": "HTMLView",
            "description": "",
            "description_tooltip": null,
            "layout": "IPY_MODEL_964c5acc04714269becf80f247a628dd",
            "placeholder": "​",
            "style": "IPY_MODEL_e6b624eeee3e4a7eb9c039e3713834d6",
            "value": " 768/768 [00:00&lt;00:00, 61.7kB/s]"
          }
        },
        "88de0072733d4a6898059c02c45b397c": {
          "model_module": "@jupyter-widgets/base",
          "model_name": "LayoutModel",
          "model_module_version": "1.2.0",
          "state": {
            "_model_module": "@jupyter-widgets/base",
            "_model_module_version": "1.2.0",
            "_model_name": "LayoutModel",
            "_view_count": null,
            "_view_module": "@jupyter-widgets/base",
            "_view_module_version": "1.2.0",
            "_view_name": "LayoutView",
            "align_content": null,
            "align_items": null,
            "align_self": null,
            "border": null,
            "bottom": null,
            "display": null,
            "flex": null,
            "flex_flow": null,
            "grid_area": null,
            "grid_auto_columns": null,
            "grid_auto_flow": null,
            "grid_auto_rows": null,
            "grid_column": null,
            "grid_gap": null,
            "grid_row": null,
            "grid_template_areas": null,
            "grid_template_columns": null,
            "grid_template_rows": null,
            "height": null,
            "justify_content": null,
            "justify_items": null,
            "left": null,
            "margin": null,
            "max_height": null,
            "max_width": null,
            "min_height": null,
            "min_width": null,
            "object_fit": null,
            "object_position": null,
            "order": null,
            "overflow": null,
            "overflow_x": null,
            "overflow_y": null,
            "padding": null,
            "right": null,
            "top": null,
            "visibility": null,
            "width": null
          }
        },
        "c853fc80b1814265befdffe44708a824": {
          "model_module": "@jupyter-widgets/base",
          "model_name": "LayoutModel",
          "model_module_version": "1.2.0",
          "state": {
            "_model_module": "@jupyter-widgets/base",
            "_model_module_version": "1.2.0",
            "_model_name": "LayoutModel",
            "_view_count": null,
            "_view_module": "@jupyter-widgets/base",
            "_view_module_version": "1.2.0",
            "_view_name": "LayoutView",
            "align_content": null,
            "align_items": null,
            "align_self": null,
            "border": null,
            "bottom": null,
            "display": null,
            "flex": null,
            "flex_flow": null,
            "grid_area": null,
            "grid_auto_columns": null,
            "grid_auto_flow": null,
            "grid_auto_rows": null,
            "grid_column": null,
            "grid_gap": null,
            "grid_row": null,
            "grid_template_areas": null,
            "grid_template_columns": null,
            "grid_template_rows": null,
            "height": null,
            "justify_content": null,
            "justify_items": null,
            "left": null,
            "margin": null,
            "max_height": null,
            "max_width": null,
            "min_height": null,
            "min_width": null,
            "object_fit": null,
            "object_position": null,
            "order": null,
            "overflow": null,
            "overflow_x": null,
            "overflow_y": null,
            "padding": null,
            "right": null,
            "top": null,
            "visibility": null,
            "width": null
          }
        },
        "3b1ae9b0b32042fc9302d036f80607a9": {
          "model_module": "@jupyter-widgets/controls",
          "model_name": "DescriptionStyleModel",
          "model_module_version": "1.5.0",
          "state": {
            "_model_module": "@jupyter-widgets/controls",
            "_model_module_version": "1.5.0",
            "_model_name": "DescriptionStyleModel",
            "_view_count": null,
            "_view_module": "@jupyter-widgets/base",
            "_view_module_version": "1.2.0",
            "_view_name": "StyleView",
            "description_width": ""
          }
        },
        "800c6b4f494f48b8af9345aad98d2612": {
          "model_module": "@jupyter-widgets/base",
          "model_name": "LayoutModel",
          "model_module_version": "1.2.0",
          "state": {
            "_model_module": "@jupyter-widgets/base",
            "_model_module_version": "1.2.0",
            "_model_name": "LayoutModel",
            "_view_count": null,
            "_view_module": "@jupyter-widgets/base",
            "_view_module_version": "1.2.0",
            "_view_name": "LayoutView",
            "align_content": null,
            "align_items": null,
            "align_self": null,
            "border": null,
            "bottom": null,
            "display": null,
            "flex": null,
            "flex_flow": null,
            "grid_area": null,
            "grid_auto_columns": null,
            "grid_auto_flow": null,
            "grid_auto_rows": null,
            "grid_column": null,
            "grid_gap": null,
            "grid_row": null,
            "grid_template_areas": null,
            "grid_template_columns": null,
            "grid_template_rows": null,
            "height": null,
            "justify_content": null,
            "justify_items": null,
            "left": null,
            "margin": null,
            "max_height": null,
            "max_width": null,
            "min_height": null,
            "min_width": null,
            "object_fit": null,
            "object_position": null,
            "order": null,
            "overflow": null,
            "overflow_x": null,
            "overflow_y": null,
            "padding": null,
            "right": null,
            "top": null,
            "visibility": null,
            "width": null
          }
        },
        "f6686ce8ebfa43b59d54be25832edfaa": {
          "model_module": "@jupyter-widgets/controls",
          "model_name": "ProgressStyleModel",
          "model_module_version": "1.5.0",
          "state": {
            "_model_module": "@jupyter-widgets/controls",
            "_model_module_version": "1.5.0",
            "_model_name": "ProgressStyleModel",
            "_view_count": null,
            "_view_module": "@jupyter-widgets/base",
            "_view_module_version": "1.2.0",
            "_view_name": "StyleView",
            "bar_color": null,
            "description_width": ""
          }
        },
        "964c5acc04714269becf80f247a628dd": {
          "model_module": "@jupyter-widgets/base",
          "model_name": "LayoutModel",
          "model_module_version": "1.2.0",
          "state": {
            "_model_module": "@jupyter-widgets/base",
            "_model_module_version": "1.2.0",
            "_model_name": "LayoutModel",
            "_view_count": null,
            "_view_module": "@jupyter-widgets/base",
            "_view_module_version": "1.2.0",
            "_view_name": "LayoutView",
            "align_content": null,
            "align_items": null,
            "align_self": null,
            "border": null,
            "bottom": null,
            "display": null,
            "flex": null,
            "flex_flow": null,
            "grid_area": null,
            "grid_auto_columns": null,
            "grid_auto_flow": null,
            "grid_auto_rows": null,
            "grid_column": null,
            "grid_gap": null,
            "grid_row": null,
            "grid_template_areas": null,
            "grid_template_columns": null,
            "grid_template_rows": null,
            "height": null,
            "justify_content": null,
            "justify_items": null,
            "left": null,
            "margin": null,
            "max_height": null,
            "max_width": null,
            "min_height": null,
            "min_width": null,
            "object_fit": null,
            "object_position": null,
            "order": null,
            "overflow": null,
            "overflow_x": null,
            "overflow_y": null,
            "padding": null,
            "right": null,
            "top": null,
            "visibility": null,
            "width": null
          }
        },
        "e6b624eeee3e4a7eb9c039e3713834d6": {
          "model_module": "@jupyter-widgets/controls",
          "model_name": "DescriptionStyleModel",
          "model_module_version": "1.5.0",
          "state": {
            "_model_module": "@jupyter-widgets/controls",
            "_model_module_version": "1.5.0",
            "_model_name": "DescriptionStyleModel",
            "_view_count": null,
            "_view_module": "@jupyter-widgets/base",
            "_view_module_version": "1.2.0",
            "_view_name": "StyleView",
            "description_width": ""
          }
        }
      }
    }
  },
  "cells": [
    {
      "cell_type": "code",
      "execution_count": null,
      "metadata": {
        "id": "h804_LHXf1ia"
      },
      "outputs": [],
      "source": [
        "# Dataset from https://github.com/xuantrung1803/XSS-Detection\n"
      ]
    },
    {
      "cell_type": "code",
      "source": [
        "!pip install transformers"
      ],
      "metadata": {
        "id": "_Ozo9OJ5ncoQ"
      },
      "execution_count": null,
      "outputs": []
    },
    {
      "cell_type": "code",
      "source": [
        "import sklearn\n",
        "import numpy as np\n",
        "import pandas as pd\n",
        "from tqdm import tqdm\n",
        "import tensorflow as tf\n",
        "from sklearn.model_selection import train_test_split\n",
        "from sklearn.metrics import classification_report\n",
        "from sklearn.metrics import confusion_matrix, accuracy_score, precision_score, recall_score"
      ],
      "metadata": {
        "id": "cj5iPjORhrJN"
      },
      "execution_count": 2,
      "outputs": []
    },
    {
      "cell_type": "markdown",
      "source": [
        "# 1. Read Data"
      ],
      "metadata": {
        "id": "Yg3B6e5RhOVZ"
      }
    },
    {
      "cell_type": "code",
      "source": [
        "\n",
        "df = pd.read_csv('XSS_dataset.csv', encoding='utf-8-sig')\n",
        "df=df[['Sentence','Label']]\n",
        "df"
      ],
      "metadata": {
        "colab": {
          "base_uri": "https://localhost:8080/",
          "height": 424
        },
        "id": "WnpZIS6Mf4Z_",
        "outputId": "f1099c06-456a-4d67-e6fc-d27216cf41b2"
      },
      "execution_count": 3,
      "outputs": [
        {
          "output_type": "execute_result",
          "data": {
            "text/plain": [
              "                                                Sentence  Label\n",
              "0      <li><a href=\"/wiki/File:Socrates.png\" class=\"i...      0\n",
              "1                   <tt onmouseover=\"alert(1)\">test</tt>      1\n",
              "2      \\t </span> <span class=\"reference-text\">Steeri...      0\n",
              "3      \\t </span> <span class=\"reference-text\"><cite ...      0\n",
              "4      \\t </span>. <a href=\"/wiki/Digital_object_iden...      0\n",
              "...                                                  ...    ...\n",
              "13681             <img onpointerenter=alert(1)>XSS</img>      1\n",
              "13682  <source onbeforepaste=\"alert(1)\" contenteditab...      1\n",
              "13683  <div draggable=\"true\" contenteditable>drag me<...      1\n",
              "13684  <li><cite id=\"CITEREFDomingos2015\" class=\"cita...      0\n",
              "13685                                         \\t </span>      0\n",
              "\n",
              "[13686 rows x 2 columns]"
            ],
            "text/html": [
              "\n",
              "\n",
              "  <div id=\"df-05491675-82f6-4d2e-8cf7-70936bd86521\">\n",
              "    <div class=\"colab-df-container\">\n",
              "      <div>\n",
              "<style scoped>\n",
              "    .dataframe tbody tr th:only-of-type {\n",
              "        vertical-align: middle;\n",
              "    }\n",
              "\n",
              "    .dataframe tbody tr th {\n",
              "        vertical-align: top;\n",
              "    }\n",
              "\n",
              "    .dataframe thead th {\n",
              "        text-align: right;\n",
              "    }\n",
              "</style>\n",
              "<table border=\"1\" class=\"dataframe\">\n",
              "  <thead>\n",
              "    <tr style=\"text-align: right;\">\n",
              "      <th></th>\n",
              "      <th>Sentence</th>\n",
              "      <th>Label</th>\n",
              "    </tr>\n",
              "  </thead>\n",
              "  <tbody>\n",
              "    <tr>\n",
              "      <th>0</th>\n",
              "      <td>&lt;li&gt;&lt;a href=\"/wiki/File:Socrates.png\" class=\"i...</td>\n",
              "      <td>0</td>\n",
              "    </tr>\n",
              "    <tr>\n",
              "      <th>1</th>\n",
              "      <td>&lt;tt onmouseover=\"alert(1)\"&gt;test&lt;/tt&gt;</td>\n",
              "      <td>1</td>\n",
              "    </tr>\n",
              "    <tr>\n",
              "      <th>2</th>\n",
              "      <td>\\t &lt;/span&gt; &lt;span class=\"reference-text\"&gt;Steeri...</td>\n",
              "      <td>0</td>\n",
              "    </tr>\n",
              "    <tr>\n",
              "      <th>3</th>\n",
              "      <td>\\t &lt;/span&gt; &lt;span class=\"reference-text\"&gt;&lt;cite ...</td>\n",
              "      <td>0</td>\n",
              "    </tr>\n",
              "    <tr>\n",
              "      <th>4</th>\n",
              "      <td>\\t &lt;/span&gt;. &lt;a href=\"/wiki/Digital_object_iden...</td>\n",
              "      <td>0</td>\n",
              "    </tr>\n",
              "    <tr>\n",
              "      <th>...</th>\n",
              "      <td>...</td>\n",
              "      <td>...</td>\n",
              "    </tr>\n",
              "    <tr>\n",
              "      <th>13681</th>\n",
              "      <td>&lt;img onpointerenter=alert(1)&gt;XSS&lt;/img&gt;</td>\n",
              "      <td>1</td>\n",
              "    </tr>\n",
              "    <tr>\n",
              "      <th>13682</th>\n",
              "      <td>&lt;source onbeforepaste=\"alert(1)\" contenteditab...</td>\n",
              "      <td>1</td>\n",
              "    </tr>\n",
              "    <tr>\n",
              "      <th>13683</th>\n",
              "      <td>&lt;div draggable=\"true\" contenteditable&gt;drag me&lt;...</td>\n",
              "      <td>1</td>\n",
              "    </tr>\n",
              "    <tr>\n",
              "      <th>13684</th>\n",
              "      <td>&lt;li&gt;&lt;cite id=\"CITEREFDomingos2015\" class=\"cita...</td>\n",
              "      <td>0</td>\n",
              "    </tr>\n",
              "    <tr>\n",
              "      <th>13685</th>\n",
              "      <td>\\t &lt;/span&gt;</td>\n",
              "      <td>0</td>\n",
              "    </tr>\n",
              "  </tbody>\n",
              "</table>\n",
              "<p>13686 rows × 2 columns</p>\n",
              "</div>\n",
              "      <button class=\"colab-df-convert\" onclick=\"convertToInteractive('df-05491675-82f6-4d2e-8cf7-70936bd86521')\"\n",
              "              title=\"Convert this dataframe to an interactive table.\"\n",
              "              style=\"display:none;\">\n",
              "\n",
              "  <svg xmlns=\"http://www.w3.org/2000/svg\" height=\"24px\"viewBox=\"0 0 24 24\"\n",
              "       width=\"24px\">\n",
              "    <path d=\"M0 0h24v24H0V0z\" fill=\"none\"/>\n",
              "    <path d=\"M18.56 5.44l.94 2.06.94-2.06 2.06-.94-2.06-.94-.94-2.06-.94 2.06-2.06.94zm-11 1L8.5 8.5l.94-2.06 2.06-.94-2.06-.94L8.5 2.5l-.94 2.06-2.06.94zm10 10l.94 2.06.94-2.06 2.06-.94-2.06-.94-.94-2.06-.94 2.06-2.06.94z\"/><path d=\"M17.41 7.96l-1.37-1.37c-.4-.4-.92-.59-1.43-.59-.52 0-1.04.2-1.43.59L10.3 9.45l-7.72 7.72c-.78.78-.78 2.05 0 2.83L4 21.41c.39.39.9.59 1.41.59.51 0 1.02-.2 1.41-.59l7.78-7.78 2.81-2.81c.8-.78.8-2.07 0-2.86zM5.41 20L4 18.59l7.72-7.72 1.47 1.35L5.41 20z\"/>\n",
              "  </svg>\n",
              "      </button>\n",
              "\n",
              "\n",
              "\n",
              "    <div id=\"df-e2e0dbf7-f743-4e3d-891b-4a9dca25450b\">\n",
              "      <button class=\"colab-df-quickchart\" onclick=\"quickchart('df-e2e0dbf7-f743-4e3d-891b-4a9dca25450b')\"\n",
              "              title=\"Suggest charts.\"\n",
              "              style=\"display:none;\">\n",
              "\n",
              "<svg xmlns=\"http://www.w3.org/2000/svg\" height=\"24px\"viewBox=\"0 0 24 24\"\n",
              "     width=\"24px\">\n",
              "    <g>\n",
              "        <path d=\"M19 3H5c-1.1 0-2 .9-2 2v14c0 1.1.9 2 2 2h14c1.1 0 2-.9 2-2V5c0-1.1-.9-2-2-2zM9 17H7v-7h2v7zm4 0h-2V7h2v10zm4 0h-2v-4h2v4z\"/>\n",
              "    </g>\n",
              "</svg>\n",
              "      </button>\n",
              "    </div>\n",
              "\n",
              "<style>\n",
              "  .colab-df-quickchart {\n",
              "    background-color: #E8F0FE;\n",
              "    border: none;\n",
              "    border-radius: 50%;\n",
              "    cursor: pointer;\n",
              "    display: none;\n",
              "    fill: #1967D2;\n",
              "    height: 32px;\n",
              "    padding: 0 0 0 0;\n",
              "    width: 32px;\n",
              "  }\n",
              "\n",
              "  .colab-df-quickchart:hover {\n",
              "    background-color: #E2EBFA;\n",
              "    box-shadow: 0px 1px 2px rgba(60, 64, 67, 0.3), 0px 1px 3px 1px rgba(60, 64, 67, 0.15);\n",
              "    fill: #174EA6;\n",
              "  }\n",
              "\n",
              "  [theme=dark] .colab-df-quickchart {\n",
              "    background-color: #3B4455;\n",
              "    fill: #D2E3FC;\n",
              "  }\n",
              "\n",
              "  [theme=dark] .colab-df-quickchart:hover {\n",
              "    background-color: #434B5C;\n",
              "    box-shadow: 0px 1px 3px 1px rgba(0, 0, 0, 0.15);\n",
              "    filter: drop-shadow(0px 1px 2px rgba(0, 0, 0, 0.3));\n",
              "    fill: #FFFFFF;\n",
              "  }\n",
              "</style>\n",
              "\n",
              "    <script>\n",
              "      async function quickchart(key) {\n",
              "        const containerElement = document.querySelector('#' + key);\n",
              "        const charts = await google.colab.kernel.invokeFunction(\n",
              "            'suggestCharts', [key], {});\n",
              "      }\n",
              "    </script>\n",
              "\n",
              "      <script>\n",
              "\n",
              "function displayQuickchartButton(domScope) {\n",
              "  let quickchartButtonEl =\n",
              "    domScope.querySelector('#df-e2e0dbf7-f743-4e3d-891b-4a9dca25450b button.colab-df-quickchart');\n",
              "  quickchartButtonEl.style.display =\n",
              "    google.colab.kernel.accessAllowed ? 'block' : 'none';\n",
              "}\n",
              "\n",
              "        displayQuickchartButton(document);\n",
              "      </script>\n",
              "      <style>\n",
              "    .colab-df-container {\n",
              "      display:flex;\n",
              "      flex-wrap:wrap;\n",
              "      gap: 12px;\n",
              "    }\n",
              "\n",
              "    .colab-df-convert {\n",
              "      background-color: #E8F0FE;\n",
              "      border: none;\n",
              "      border-radius: 50%;\n",
              "      cursor: pointer;\n",
              "      display: none;\n",
              "      fill: #1967D2;\n",
              "      height: 32px;\n",
              "      padding: 0 0 0 0;\n",
              "      width: 32px;\n",
              "    }\n",
              "\n",
              "    .colab-df-convert:hover {\n",
              "      background-color: #E2EBFA;\n",
              "      box-shadow: 0px 1px 2px rgba(60, 64, 67, 0.3), 0px 1px 3px 1px rgba(60, 64, 67, 0.15);\n",
              "      fill: #174EA6;\n",
              "    }\n",
              "\n",
              "    [theme=dark] .colab-df-convert {\n",
              "      background-color: #3B4455;\n",
              "      fill: #D2E3FC;\n",
              "    }\n",
              "\n",
              "    [theme=dark] .colab-df-convert:hover {\n",
              "      background-color: #434B5C;\n",
              "      box-shadow: 0px 1px 3px 1px rgba(0, 0, 0, 0.15);\n",
              "      filter: drop-shadow(0px 1px 2px rgba(0, 0, 0, 0.3));\n",
              "      fill: #FFFFFF;\n",
              "    }\n",
              "  </style>\n",
              "\n",
              "      <script>\n",
              "        const buttonEl =\n",
              "          document.querySelector('#df-05491675-82f6-4d2e-8cf7-70936bd86521 button.colab-df-convert');\n",
              "        buttonEl.style.display =\n",
              "          google.colab.kernel.accessAllowed ? 'block' : 'none';\n",
              "\n",
              "        async function convertToInteractive(key) {\n",
              "          const element = document.querySelector('#df-05491675-82f6-4d2e-8cf7-70936bd86521');\n",
              "          const dataTable =\n",
              "            await google.colab.kernel.invokeFunction('convertToInteractive',\n",
              "                                                     [key], {});\n",
              "          if (!dataTable) return;\n",
              "\n",
              "          const docLinkHtml = 'Like what you see? Visit the ' +\n",
              "            '<a target=\"_blank\" href=https://colab.research.google.com/notebooks/data_table.ipynb>data table notebook</a>'\n",
              "            + ' to learn more about interactive tables.';\n",
              "          element.innerHTML = '';\n",
              "          dataTable['output_type'] = 'display_data';\n",
              "          await google.colab.output.renderOutput(dataTable, element);\n",
              "          const docLink = document.createElement('div');\n",
              "          docLink.innerHTML = docLinkHtml;\n",
              "          element.appendChild(docLink);\n",
              "        }\n",
              "      </script>\n",
              "    </div>\n",
              "  </div>\n"
            ]
          },
          "metadata": {},
          "execution_count": 3
        }
      ]
    },
    {
      "cell_type": "code",
      "source": [
        "\n",
        "def get_len(x):\n",
        "  return len(x.split(' '))\n",
        "tqdm.pandas()\n",
        "df['len']=df['Sentence'].progress_apply(lambda x: get_len(x))"
      ],
      "metadata": {
        "colab": {
          "base_uri": "https://localhost:8080/"
        },
        "id": "V2m56eTHh3c9",
        "outputId": "4c26c56d-0f5d-4439-83b3-609554ca9866"
      },
      "execution_count": 4,
      "outputs": [
        {
          "output_type": "stream",
          "name": "stderr",
          "text": [
            "100%|██████████| 13686/13686 [00:00<00:00, 594519.59it/s]\n"
          ]
        }
      ]
    },
    {
      "cell_type": "code",
      "source": [
        "# df['len'].plot(kind='bar')"
      ],
      "metadata": {
        "id": "2MVQlhPNij1P"
      },
      "execution_count": 5,
      "outputs": []
    },
    {
      "cell_type": "code",
      "source": [
        "df['len'].mean()"
      ],
      "metadata": {
        "colab": {
          "base_uri": "https://localhost:8080/"
        },
        "id": "X5qCzPvGiqdC",
        "outputId": "dd13ad7e-dca0-4f22-9ee7-31a95cc6c096"
      },
      "execution_count": 6,
      "outputs": [
        {
          "output_type": "execute_result",
          "data": {
            "text/plain": [
              "7.4049393540844655"
            ]
          },
          "metadata": {},
          "execution_count": 6
        }
      ]
    },
    {
      "cell_type": "markdown",
      "source": [
        "# 2. char2index code"
      ],
      "metadata": {
        "id": "PDXLtqcvkg3f"
      }
    },
    {
      "cell_type": "code",
      "source": [
        "def data2char_index(X, max_len):\n",
        "    alphabet = \" abcdefghijklmnopqrstuvwxyz0123456789-,;.!?:'\\\"/\\\\|_@#$%^&*~`+-=<>()[]{}\"\n",
        "    result = []\n",
        "    for data in X:\n",
        "        mat = []\n",
        "        for ch in data:\n",
        "            if ch not in alphabet:\n",
        "                continue\n",
        "            mat.append(alphabet.index(ch))\n",
        "        result.append(mat)\n",
        "    X_char = tf.keras.preprocessing.sequence.pad_sequences(np.array(result, dtype=object), padding='post',\n",
        "                                                           truncating='post', maxlen=max_len)\n",
        "    return X_char\n"
      ],
      "metadata": {
        "id": "N6Yv__gIhj9G"
      },
      "execution_count": 7,
      "outputs": []
    },
    {
      "cell_type": "code",
      "source": [
        "data = df['Sentence'].values\n",
        "label = df['Label'].values"
      ],
      "metadata": {
        "id": "eyKzX1-Mhzem"
      },
      "execution_count": 8,
      "outputs": []
    },
    {
      "cell_type": "markdown",
      "source": [
        "# 3. train and test split"
      ],
      "metadata": {
        "id": "Dmu59QZ2kn-v"
      }
    },
    {
      "cell_type": "code",
      "source": [
        "x_train1, x_test1, y_train, y_test = train_test_split(\n",
        "    data, label, test_size=0.2, random_state=42)\n",
        "\n",
        "x_train = data2char_index(x_train1, max_len=200)\n",
        "x_test = data2char_index(x_test1, max_len=200)\n",
        "\n",
        "\n"
      ],
      "metadata": {
        "id": "R5xMX7s3hw_p"
      },
      "execution_count": 9,
      "outputs": []
    },
    {
      "cell_type": "code",
      "source": [
        "x_train.shape\n"
      ],
      "metadata": {
        "colab": {
          "base_uri": "https://localhost:8080/"
        },
        "id": "z0F9NO3gkzgK",
        "outputId": "0df7c8e5-4257-4cfe-de52-8e7d699322c8"
      },
      "execution_count": 10,
      "outputs": [
        {
          "output_type": "execute_result",
          "data": {
            "text/plain": [
              "(10948, 200)"
            ]
          },
          "metadata": {},
          "execution_count": 10
        }
      ]
    },
    {
      "cell_type": "code",
      "source": [
        "x_test.shape"
      ],
      "metadata": {
        "colab": {
          "base_uri": "https://localhost:8080/"
        },
        "id": "qcHHXRm_lJjP",
        "outputId": "29e35f51-b1ec-448b-87f6-9df56af079f6"
      },
      "execution_count": 11,
      "outputs": [
        {
          "output_type": "execute_result",
          "data": {
            "text/plain": [
              "(2738, 200)"
            ]
          },
          "metadata": {},
          "execution_count": 11
        }
      ]
    },
    {
      "cell_type": "markdown",
      "source": [
        "# 4. CNN model"
      ],
      "metadata": {
        "id": "sObYeyT4ksdO"
      }
    },
    {
      "cell_type": "code",
      "source": [
        "def get_charcnn_model(max_len):\n",
        "    main_input = tf.keras.layers.Input(shape=(max_len,))\n",
        "\n",
        "    embedder = tf.keras.layers.Embedding(\n",
        "        input_dim=70,\n",
        "        output_dim=80,\n",
        "        input_length=max_len,\n",
        "        trainable=False\n",
        "    )\n",
        "    embed = embedder(main_input)\n",
        "    #chập\n",
        "    cnn1 = tf.keras.layers.Conv1D(\n",
        "        32, 5, padding='same', strides=1, activation='relu')(embed)\n",
        "    cnn1 = tf.keras.layers.MaxPooling1D(pool_size=12)(cnn1)\n",
        "\n",
        "    cnn2 = tf.keras.layers.Conv1D(\n",
        "        32, 10, padding='same', strides=1, activation='relu')(embed)\n",
        "    cnn2 = tf.keras.layers.MaxPooling1D(pool_size=11)(cnn2)\n",
        "\n",
        "    cnn3 = tf.keras.layers.Conv1D(\n",
        "        32, 15, padding='same', strides=1, activation='relu')(embed)\n",
        "    cnn3 = tf.keras.layers.MaxPooling1D(pool_size=10)(cnn3)\n",
        "\n",
        "    cnn = tf.keras.layers.concatenate([cnn1, cnn2, cnn3], axis=1)\n",
        "\n",
        "    flat = tf.keras.layers.Flatten()(cnn)\n",
        "\n",
        "    drop = tf.keras.layers.Dropout(0.2)(flat)\n",
        "\n",
        "\n",
        "    dense1 = tf.keras.layers.Dense(1024, activation='relu')(drop)\n",
        "    dense2 = tf.keras.layers.Dense(128, activation='relu')(dense1)\n",
        "\n",
        "    main_output = tf.keras.layers.Dense(1, activation='sigmoid')(dense2)\n",
        "    model = tf.keras.Model(inputs=main_input, outputs=main_output)\n",
        "    return model\n",
        "\n"
      ],
      "metadata": {
        "id": "WOKuEjDNjuZ_"
      },
      "execution_count": 57,
      "outputs": []
    },
    {
      "cell_type": "code",
      "source": [
        "model = get_charcnn_model(max_len=200)"
      ],
      "metadata": {
        "id": "IhyqFG20jxnO"
      },
      "execution_count": 58,
      "outputs": []
    },
    {
      "cell_type": "code",
      "source": [
        "tensorboard = tf.keras.callbacks.TensorBoard(\n",
        "    log_dir='logs/', histogram_freq=0, write_graph=True, write_images=True)\n"
      ],
      "metadata": {
        "id": "6Ts-jePmj5UY"
      },
      "execution_count": 59,
      "outputs": []
    },
    {
      "cell_type": "code",
      "source": [
        "model.compile(\n",
        "    loss='binary_crossentropy',\n",
        "    optimizer=tf.keras.optimizers.Adam(learning_rate=1e-5),\n",
        "    metrics=['accuracy']\n",
        "\n",
        ")\n",
        "model.summary()"
      ],
      "metadata": {
        "colab": {
          "base_uri": "https://localhost:8080/"
        },
        "id": "gkcqFALuj8Vf",
        "outputId": "99f4d083-cd28-47c9-b255-3d9fc38c14bf"
      },
      "execution_count": 60,
      "outputs": [
        {
          "output_type": "stream",
          "name": "stdout",
          "text": [
            "Model: \"model_8\"\n",
            "__________________________________________________________________________________________________\n",
            " Layer (type)                   Output Shape         Param #     Connected to                     \n",
            "==================================================================================================\n",
            " input_2 (InputLayer)           [(None, 200)]        0           []                               \n",
            "                                                                                                  \n",
            " embedding_1 (Embedding)        (None, 200, 80)      5600        ['input_2[0][0]']                \n",
            "                                                                                                  \n",
            " conv1d_3 (Conv1D)              (None, 200, 32)      12832       ['embedding_1[0][0]']            \n",
            "                                                                                                  \n",
            " conv1d_4 (Conv1D)              (None, 200, 32)      25632       ['embedding_1[0][0]']            \n",
            "                                                                                                  \n",
            " conv1d_5 (Conv1D)              (None, 200, 32)      38432       ['embedding_1[0][0]']            \n",
            "                                                                                                  \n",
            " max_pooling1d_3 (MaxPooling1D)  (None, 16, 32)      0           ['conv1d_3[0][0]']               \n",
            "                                                                                                  \n",
            " max_pooling1d_4 (MaxPooling1D)  (None, 18, 32)      0           ['conv1d_4[0][0]']               \n",
            "                                                                                                  \n",
            " max_pooling1d_5 (MaxPooling1D)  (None, 20, 32)      0           ['conv1d_5[0][0]']               \n",
            "                                                                                                  \n",
            " concatenate_1 (Concatenate)    (None, 54, 32)       0           ['max_pooling1d_3[0][0]',        \n",
            "                                                                  'max_pooling1d_4[0][0]',        \n",
            "                                                                  'max_pooling1d_5[0][0]']        \n",
            "                                                                                                  \n",
            " flatten_1 (Flatten)            (None, 1728)         0           ['concatenate_1[0][0]']          \n",
            "                                                                                                  \n",
            " dropout_206 (Dropout)          (None, 1728)         0           ['flatten_1[0][0]']              \n",
            "                                                                                                  \n",
            " dense_17 (Dense)               (None, 1024)         1770496     ['dropout_206[0][0]']            \n",
            "                                                                                                  \n",
            " dense_18 (Dense)               (None, 128)          131200      ['dense_17[0][0]']               \n",
            "                                                                                                  \n",
            " dense_19 (Dense)               (None, 1)            129         ['dense_18[0][0]']               \n",
            "                                                                                                  \n",
            "==================================================================================================\n",
            "Total params: 1,984,321\n",
            "Trainable params: 1,978,721\n",
            "Non-trainable params: 5,600\n",
            "__________________________________________________________________________________________________\n"
          ]
        }
      ]
    },
    {
      "cell_type": "code",
      "source": [
        "batch_size = 512\n",
        "num_epoch = 20\n",
        "model_log = model.fit(\n",
        "    x_train,\n",
        "    y_train,\n",
        "    batch_size=batch_size,\n",
        "    epochs=num_epoch,\n",
        "    verbose=1,\n",
        "    validation_data=(x_test, y_test),\n",
        "    callbacks=[tensorboard]\n",
        ")\n",
        "\n",
        "model.save('model.h5')\n",
        "\n"
      ],
      "metadata": {
        "colab": {
          "base_uri": "https://localhost:8080/"
        },
        "id": "WtBjJHbvjrbP",
        "outputId": "d295ae6c-c093-4001-8631-f3fb589538a9"
      },
      "execution_count": 61,
      "outputs": [
        {
          "output_type": "stream",
          "name": "stdout",
          "text": [
            "Epoch 1/20\n",
            "22/22 [==============================] - 3s 37ms/step - loss: 0.6848 - accuracy: 0.5588 - val_loss: 0.6720 - val_accuracy: 0.6147\n",
            "Epoch 2/20\n",
            "22/22 [==============================] - 0s 22ms/step - loss: 0.6651 - accuracy: 0.6291 - val_loss: 0.6516 - val_accuracy: 0.6359\n",
            "Epoch 3/20\n",
            "22/22 [==============================] - 0s 21ms/step - loss: 0.6442 - accuracy: 0.6430 - val_loss: 0.6300 - val_accuracy: 0.6297\n",
            "Epoch 4/20\n",
            "22/22 [==============================] - 0s 22ms/step - loss: 0.6222 - accuracy: 0.6489 - val_loss: 0.6065 - val_accuracy: 0.6424\n",
            "Epoch 5/20\n",
            "22/22 [==============================] - 0s 22ms/step - loss: 0.5993 - accuracy: 0.6653 - val_loss: 0.5828 - val_accuracy: 0.6658\n",
            "Epoch 6/20\n",
            "22/22 [==============================] - 1s 23ms/step - loss: 0.5758 - accuracy: 0.6835 - val_loss: 0.5584 - val_accuracy: 0.6742\n",
            "Epoch 7/20\n",
            "22/22 [==============================] - 1s 24ms/step - loss: 0.5514 - accuracy: 0.7436 - val_loss: 0.5327 - val_accuracy: 0.7663\n",
            "Epoch 8/20\n",
            "22/22 [==============================] - 1s 24ms/step - loss: 0.5256 - accuracy: 0.7870 - val_loss: 0.5051 - val_accuracy: 0.7955\n",
            "Epoch 9/20\n",
            "22/22 [==============================] - 1s 29ms/step - loss: 0.4968 - accuracy: 0.8094 - val_loss: 0.4747 - val_accuracy: 0.8042\n",
            "Epoch 10/20\n",
            "22/22 [==============================] - 1s 26ms/step - loss: 0.4669 - accuracy: 0.8303 - val_loss: 0.4430 - val_accuracy: 0.8415\n",
            "Epoch 11/20\n",
            "22/22 [==============================] - 1s 24ms/step - loss: 0.4358 - accuracy: 0.8518 - val_loss: 0.4096 - val_accuracy: 0.8630\n",
            "Epoch 12/20\n",
            "22/22 [==============================] - 1s 25ms/step - loss: 0.4023 - accuracy: 0.8708 - val_loss: 0.3768 - val_accuracy: 0.8740\n",
            "Epoch 13/20\n",
            "22/22 [==============================] - 1s 24ms/step - loss: 0.3706 - accuracy: 0.8807 - val_loss: 0.3447 - val_accuracy: 0.8850\n",
            "Epoch 14/20\n",
            "22/22 [==============================] - 1s 24ms/step - loss: 0.3395 - accuracy: 0.8933 - val_loss: 0.3146 - val_accuracy: 0.8985\n",
            "Epoch 15/20\n",
            "22/22 [==============================] - 1s 23ms/step - loss: 0.3093 - accuracy: 0.9067 - val_loss: 0.2856 - val_accuracy: 0.9127\n",
            "Epoch 16/20\n",
            "22/22 [==============================] - 1s 23ms/step - loss: 0.2812 - accuracy: 0.9196 - val_loss: 0.2590 - val_accuracy: 0.9233\n",
            "Epoch 17/20\n",
            "22/22 [==============================] - 1s 23ms/step - loss: 0.2545 - accuracy: 0.9286 - val_loss: 0.2346 - val_accuracy: 0.9328\n",
            "Epoch 18/20\n",
            "22/22 [==============================] - 1s 26ms/step - loss: 0.2312 - accuracy: 0.9369 - val_loss: 0.2127 - val_accuracy: 0.9372\n",
            "Epoch 19/20\n",
            "22/22 [==============================] - 1s 26ms/step - loss: 0.2096 - accuracy: 0.9420 - val_loss: 0.1927 - val_accuracy: 0.9470\n",
            "Epoch 20/20\n",
            "22/22 [==============================] - 1s 24ms/step - loss: 0.1907 - accuracy: 0.9512 - val_loss: 0.1748 - val_accuracy: 0.9503\n"
          ]
        }
      ]
    },
    {
      "cell_type": "code",
      "source": [
        "pred = model.predict(x_test)\n",
        "y_pred = np.int64(pred > 0.5)"
      ],
      "metadata": {
        "colab": {
          "base_uri": "https://localhost:8080/"
        },
        "id": "2bstLhlnkBh2",
        "outputId": "f4712cdf-6804-41d9-a141-4e6f7f4ee78e"
      },
      "execution_count": 62,
      "outputs": [
        {
          "output_type": "stream",
          "name": "stdout",
          "text": [
            "86/86 [==============================] - 0s 2ms/step\n"
          ]
        }
      ]
    },
    {
      "cell_type": "code",
      "source": [
        "all_pred=y_pred\n",
        "all_labels=y_test"
      ],
      "metadata": {
        "id": "FpDSxKXEFlsw"
      },
      "execution_count": 63,
      "outputs": []
    },
    {
      "cell_type": "code",
      "source": [
        "import sklearn\n",
        "confusion = sklearn.metrics.confusion_matrix(y_true=all_labels, y_pred=all_pred)\n",
        "print('Confusion matrix: \\n',confusion)\n",
        "\n",
        "tn, fp, fn, tp = confusion.ravel()\n",
        "print('\\nTP:',tp)\n",
        "print('FP:',fp)\n",
        "print('TN:',tn)\n",
        "print('FN:',fn)\n",
        "\n",
        "\n",
        "\n",
        "## Performance measure\n",
        "print('\\nAccuracy: '+ str(sklearn.metrics.accuracy_score(y_true=all_labels, y_pred=all_pred)))\n",
        "print('Precision: '+ str(sklearn.metrics.precision_score(y_true=all_labels, y_pred=all_pred)))\n",
        "print('Recall: '+ str(sklearn.metrics.recall_score(y_true=all_labels, y_pred=all_pred)))\n",
        "print('F-measure: '+ str(sklearn.metrics.f1_score(y_true=all_labels, y_pred=all_pred)))\n"
      ],
      "metadata": {
        "id": "L211hJR8maLC",
        "colab": {
          "base_uri": "https://localhost:8080/"
        },
        "outputId": "39312a1a-5958-434e-86cd-cc535229027d"
      },
      "execution_count": 64,
      "outputs": [
        {
          "output_type": "stream",
          "name": "stdout",
          "text": [
            "Confusion matrix: \n",
            " [[1154  106]\n",
            " [  30 1448]]\n",
            "\n",
            "TP: 1448\n",
            "FP: 106\n",
            "TN: 1154\n",
            "FN: 30\n",
            "\n",
            "Accuracy: 0.9503287070854638\n",
            "Precision: 0.9317889317889317\n",
            "Recall: 0.979702300405954\n",
            "F-measure: 0.955145118733509\n"
          ]
        }
      ]
    },
    {
      "cell_type": "markdown",
      "source": [
        "# 5 VulBERTa"
      ],
      "metadata": {
        "id": "d6xJBjlCybMv"
      }
    },
    {
      "cell_type": "code",
      "source": [
        "print('x_train shape: ',x_train1.shape,np.round(x_train1.shape[0]/data.shape[0],2),'%')\n",
        "print('x_test.shape:  ',x_test1.shape,np.round(x_test1.shape[0]/data.shape[0],2),'%')"
      ],
      "metadata": {
        "colab": {
          "base_uri": "https://localhost:8080/"
        },
        "id": "zfdW6tmCmjwE",
        "outputId": "daeb40f3-7528-411e-a732-60e75640e87a"
      },
      "execution_count": 18,
      "outputs": [
        {
          "output_type": "stream",
          "name": "stdout",
          "text": [
            "x_train shape:  (10948,) 0.8 %\n",
            "x_test.shape:   (2738,) 0.2 %\n"
          ]
        }
      ]
    },
    {
      "cell_type": "code",
      "source": [
        "mx_len=514"
      ],
      "metadata": {
        "id": "fc3ENdqevrg_"
      },
      "execution_count": 19,
      "outputs": []
    },
    {
      "cell_type": "code",
      "source": [
        "#define a tokenizer object\n",
        "from transformers import RobertaTokenizer\n",
        "model_name=\"cardiffnlp/twitter-roberta-base-emotion\"\n",
        "tokenizer = RobertaTokenizer.from_pretrained(model_name,num_labels=2,model_max_length=mx_len)\n",
        "\n",
        "train1_encodings = tokenizer(list(x_train1),\n",
        "                            truncation=True,\n",
        "                            padding=True,)\n",
        "\n",
        "test1_encodings = tokenizer(list(x_test1),\n",
        "                            truncation=True,\n",
        "                            padding=True)\n",
        "\n"
      ],
      "metadata": {
        "id": "lthL0CkRvrhB",
        "colab": {
          "base_uri": "https://localhost:8080/",
          "height": 145,
          "referenced_widgets": [
            "ebbf62651c874e3e82732c6120601083",
            "a51f586b14694f68870644235ef8793e",
            "4532bf84fe5249e59dfb455f6132e9df",
            "c00e61e749634499889fbe989a8f1f4d",
            "ca73e76e6b1a42589644f76fe47b7ad2",
            "227cad8c59ca46b5b143affebd194629",
            "02aea9a33bfd414784fc0268170919fd",
            "6dc5144a4f4d493a953fa4a1e2b41ade",
            "5e02d6a5e84946bd941740dcc02b058f",
            "35041e209791488eb0431eefde28c9a5",
            "b486944014e2451e8d71acee7cdc197e",
            "8fce09f8a4cf4ea58b04424b653f434a",
            "275784865fe64e0dae12c373fd56c719",
            "52e91390fbc54e90b9966e66ec7e4010",
            "3266c790218c492494f894fc1dd24751",
            "05cd127984a546f3949f60bfb6301f9a",
            "73f3c18b3180419bbf4c071a6447d788",
            "289a70b2445d4eb1b15cddd3388ba733",
            "ec44117ceb1141758c102b131c463c8c",
            "7d12cdb4b6bb40ac9fb19e0d1a767cd2",
            "197a2f451f25409e97e388149cb4e532",
            "485de68ec3a34537a3bf22cffbb2bf9a",
            "3971a73a50a7450da2dbb2dc7cc2ce33",
            "d204fb335c274b3882fbaf5f5f3ba8ff",
            "2702140e44034d94ae1cde268b64eca6",
            "5bc987a600c94c22b2e217441464801e",
            "5961f31c47bb4c6dbfea104f5e7716ac",
            "cbe789993b6f47e29c5c427555f57e61",
            "40087edfc5ff4ed3a410e71c7a724111",
            "877b0b0a2c4f4a2d91bf49a61412b347",
            "665f9f06da04436e84ca58dd1f970cca",
            "f6e72446a95c44568bd1f07cf04e8fe7",
            "0ef89cdc212c43538e7dc180063e2042",
            "0ec8c0c3416e4b98a444b28a52ce0390",
            "7e04cf3a2e694d9d803365d235aa5328",
            "21344c0565b844b595a58bb6a6c4a115",
            "1234c71523904533a8fdd12264787257",
            "88de0072733d4a6898059c02c45b397c",
            "c853fc80b1814265befdffe44708a824",
            "3b1ae9b0b32042fc9302d036f80607a9",
            "800c6b4f494f48b8af9345aad98d2612",
            "f6686ce8ebfa43b59d54be25832edfaa",
            "964c5acc04714269becf80f247a628dd",
            "e6b624eeee3e4a7eb9c039e3713834d6"
          ]
        },
        "outputId": "caca7fd8-f313-4355-f5e5-036113a5db94"
      },
      "execution_count": 20,
      "outputs": [
        {
          "output_type": "display_data",
          "data": {
            "text/plain": [
              "Downloading (…)olve/main/vocab.json:   0%|          | 0.00/899k [00:00<?, ?B/s]"
            ],
            "application/vnd.jupyter.widget-view+json": {
              "version_major": 2,
              "version_minor": 0,
              "model_id": "ebbf62651c874e3e82732c6120601083"
            }
          },
          "metadata": {}
        },
        {
          "output_type": "display_data",
          "data": {
            "text/plain": [
              "Downloading (…)olve/main/merges.txt:   0%|          | 0.00/456k [00:00<?, ?B/s]"
            ],
            "application/vnd.jupyter.widget-view+json": {
              "version_major": 2,
              "version_minor": 0,
              "model_id": "8fce09f8a4cf4ea58b04424b653f434a"
            }
          },
          "metadata": {}
        },
        {
          "output_type": "display_data",
          "data": {
            "text/plain": [
              "Downloading (…)cial_tokens_map.json:   0%|          | 0.00/150 [00:00<?, ?B/s]"
            ],
            "application/vnd.jupyter.widget-view+json": {
              "version_major": 2,
              "version_minor": 0,
              "model_id": "3971a73a50a7450da2dbb2dc7cc2ce33"
            }
          },
          "metadata": {}
        },
        {
          "output_type": "display_data",
          "data": {
            "text/plain": [
              "Downloading (…)lve/main/config.json:   0%|          | 0.00/768 [00:00<?, ?B/s]"
            ],
            "application/vnd.jupyter.widget-view+json": {
              "version_major": 2,
              "version_minor": 0,
              "model_id": "0ec8c0c3416e4b98a444b28a52ce0390"
            }
          },
          "metadata": {}
        }
      ]
    },
    {
      "cell_type": "code",
      "source": [
        "train_final_encodings=dict()\n",
        "train_final_encodings['input_ids1']=train1_encodings['input_ids']\n",
        "train_final_encodings['attention_mask1']=train1_encodings['input_ids']"
      ],
      "metadata": {
        "id": "KhFn1ypvvrhD"
      },
      "execution_count": 21,
      "outputs": []
    },
    {
      "cell_type": "code",
      "source": [
        "test_final_encodings=dict()\n",
        "test_final_encodings['input_ids1']=test1_encodings['input_ids']\n",
        "test_final_encodings['attention_mask1']=test1_encodings['input_ids']\n"
      ],
      "metadata": {
        "id": "jMUd1CePvrhG"
      },
      "execution_count": 22,
      "outputs": []
    },
    {
      "cell_type": "code",
      "source": [
        "\n",
        "train_dataset = tf.data.Dataset.from_tensor_slices((dict(train_final_encodings),\n",
        "                                    list(y_train)))\n",
        "test_dataset= tf.data.Dataset.from_tensor_slices((dict(test_final_encodings),\n",
        "                                    list(y_test)))"
      ],
      "metadata": {
        "id": "hGcBYTx_vrhI"
      },
      "execution_count": 23,
      "outputs": []
    },
    {
      "cell_type": "code",
      "source": [
        "# configuration={\n",
        "#   \"attention_probs_dropout_prob\": 0.1,\n",
        "#   \"bos_token_id\": 0,\n",
        "#   \"classifier_dropout\": 0,\n",
        "#   \"eos_token_id\": 2,\n",
        "#   \"hidden_act\": \"gelu\",\n",
        "#   \"hidden_dropout_prob\": 0.1,\n",
        "#   \"hidden_size\": 768,\n",
        "#   \"initializer_range\": 0.02,\n",
        "#   \"intermediate_size\": 3072,\n",
        "#   \"layer_norm_eps\": 1e-12,\n",
        "#   \"max_position_embeddings\": mx_len,\n",
        "#   \"model_type\": \"roberta\",\n",
        "#   \"num_attention_heads\": 3,\n",
        "#   \"num_hidden_layers\": 3,\n",
        "#   \"pad_token_id\": 1,\n",
        "#   \"position_embedding_type\": \"absolute\",\n",
        "#   \"type_vocab_size\": 1,\n",
        "#   \"use_cache\": True,\n",
        "#   \"vocab_size\": 50265,\n",
        "# }\n",
        "# from transformers import RobertaConfig\n",
        "# new_config=RobertaConfig.from_dict(configuration)"
      ],
      "metadata": {
        "id": "i8kwdR4iogES"
      },
      "execution_count": null,
      "outputs": []
    },
    {
      "cell_type": "code",
      "source": [
        "## VulBERTa-small config\n",
        "from transformers import RobertaConfig\n",
        "new_config_small = RobertaConfig(\n",
        "                              max_position_embeddings=514,\n",
        "                              num_attention_heads=3,\n",
        "                              num_hidden_layers=3,\n",
        "                              type_vocab_size=1,)\n"
      ],
      "metadata": {
        "id": "VEY0ck8N_xjh"
      },
      "execution_count": 35,
      "outputs": []
    },
    {
      "cell_type": "code",
      "source": [
        "## VulBERTa-medium config\n",
        "from transformers import RobertaConfig\n",
        "new_config_med= RobertaConfig(\n",
        "                              max_position_embeddings=514,\n",
        "                              num_attention_heads=12,\n",
        "                              num_hidden_layers=6,\n",
        "                              type_vocab_size=1,)"
      ],
      "metadata": {
        "id": "sRcGRwOKBUFz"
      },
      "execution_count": 36,
      "outputs": []
    },
    {
      "cell_type": "code",
      "source": [
        "## VulBERTa-base config\n",
        "from transformers import RobertaConfig\n",
        "new_config_big = RobertaConfig(max_position_embeddings=514,\n",
        "                           num_attention_heads=12,\n",
        "                           num_hidden_layers=12,\n",
        "                           type_vocab_size=1,)"
      ],
      "metadata": {
        "id": "rHbmalXXBZ9g"
      },
      "execution_count": 37,
      "outputs": []
    },
    {
      "cell_type": "code",
      "source": [
        "from transformers import TFRobertaModel\n",
        "# get TF bert\n",
        "new_config=new_config_small\n",
        "new_config.output_hidden_states = False\n",
        "transformer_model = TFRobertaModel.from_pretrained(model_name, config = new_config)\n",
        "\n",
        "\n",
        "# get input bert1\n",
        "input_ids_in1 = tf.keras.layers.Input(shape=(new_config.max_position_embeddings,), name='input_ids1', dtype='int32')\n",
        "input_masks_in1 = tf.keras.layers.Input(shape=(new_config.max_position_embeddings,), name='attention_mask1', dtype='int32')\n",
        "X= transformer_model(input_ids=input_ids_in1,attention_mask=input_masks_in1)[0]\n",
        "\n",
        "\n",
        "# extra layer\n",
        "X = tf.keras.layers.GlobalMaxPool1D()(X)\n",
        "\n",
        "X = tf.keras.layers.Dense(256, activation='relu')(X)\n",
        "X = tf.keras.layers.Dropout(0.2)(X)\n",
        "X = tf.keras.layers.Dense(1, activation='sigmoid')(X)\n",
        "model = tf.keras.Model(inputs=[input_ids_in1, input_masks_in1], outputs = X)\n",
        "\n",
        "for layer in model.layers[:3]:\n",
        "  layer.trainable = False\n",
        "\n",
        "# setting optimizer and loss\n",
        "optimizerr = tf.keras.optimizers.Adam(learning_rate=0.001)\n",
        "losss_fun = tf.keras.losses.SparseCategoricalCrossentropy()\n",
        "# compile model\n",
        "# model.compile(optimizer=optimizerr,loss=losss_fun,\n",
        "#               metrics=['accuracy'])# train the model\n",
        "model.compile(\n",
        "    loss='binary_crossentropy',\n",
        "    optimizer=tf.keras.optimizers.Adam(learning_rate=1e-5),\n",
        "    metrics=['accuracy'])"
      ],
      "metadata": {
        "colab": {
          "base_uri": "https://localhost:8080/"
        },
        "outputId": "f861a888-af89-48d3-d9ba-6714717cd23d",
        "id": "OHR-4vCiwfgd"
      },
      "execution_count": 46,
      "outputs": [
        {
          "output_type": "stream",
          "name": "stderr",
          "text": [
            "Some layers from the model checkpoint at cardiffnlp/twitter-roberta-base-emotion were not used when initializing TFRobertaModel: ['classifier', 'roberta/encoder/layer_._5/output/LayerNorm/gamma:0', 'roberta/encoder/layer_._9/output/LayerNorm/gamma:0', 'roberta/encoder/layer_._4/output/dense/kernel:0', 'roberta/encoder/layer_._10/attention/self/value/bias:0', 'roberta/encoder/layer_._11/attention/self/query/bias:0', 'roberta/encoder/layer_._9/attention/self/value/kernel:0', 'roberta/encoder/layer_._8/attention/self/value/bias:0', 'roberta/encoder/layer_._3/attention/self/key/kernel:0', 'roberta/encoder/layer_._10/attention/self/value/kernel:0', 'roberta/encoder/layer_._9/intermediate/dense/bias:0', 'roberta/encoder/layer_._8/output/LayerNorm/gamma:0', 'roberta/encoder/layer_._6/attention/output/LayerNorm/beta:0', 'roberta/encoder/layer_._6/attention/output/LayerNorm/gamma:0', 'roberta/encoder/layer_._9/attention/self/query/bias:0', 'roberta/encoder/layer_._5/attention/self/key/bias:0', 'roberta/encoder/layer_._6/output/LayerNorm/gamma:0', 'roberta/encoder/layer_._3/output/LayerNorm/beta:0', 'roberta/encoder/layer_._10/attention/output/dense/bias:0', 'roberta/encoder/layer_._4/attention/self/value/bias:0', 'roberta/encoder/layer_._8/attention/self/query/bias:0', 'roberta/encoder/layer_._6/intermediate/dense/kernel:0', 'roberta/encoder/layer_._4/attention/output/LayerNorm/gamma:0', 'roberta/encoder/layer_._8/attention/self/key/kernel:0', 'roberta/encoder/layer_._9/attention/self/query/kernel:0', 'roberta/encoder/layer_._6/attention/output/dense/bias:0', 'roberta/encoder/layer_._8/output/LayerNorm/beta:0', 'roberta/encoder/layer_._11/attention/self/query/kernel:0', 'roberta/encoder/layer_._5/output/dense/bias:0', 'roberta/encoder/layer_._4/attention/self/query/bias:0', 'roberta/encoder/layer_._8/output/dense/kernel:0', 'roberta/encoder/layer_._3/attention/self/value/bias:0', 'roberta/encoder/layer_._3/attention/output/dense/kernel:0', 'roberta/encoder/layer_._7/attention/output/LayerNorm/gamma:0', 'roberta/encoder/layer_._11/attention/self/key/bias:0', 'roberta/encoder/layer_._9/attention/self/key/kernel:0', 'roberta/encoder/layer_._6/attention/self/query/bias:0', 'roberta/encoder/layer_._3/output/dense/kernel:0', 'roberta/encoder/layer_._10/intermediate/dense/bias:0', 'roberta/encoder/layer_._8/attention/output/LayerNorm/beta:0', 'roberta/encoder/layer_._5/intermediate/dense/bias:0', 'roberta/encoder/layer_._4/intermediate/dense/bias:0', 'roberta/encoder/layer_._11/output/LayerNorm/gamma:0', 'roberta/encoder/layer_._8/intermediate/dense/kernel:0', 'roberta/encoder/layer_._3/intermediate/dense/kernel:0', 'roberta/encoder/layer_._9/output/dense/kernel:0', 'roberta/encoder/layer_._5/output/dense/kernel:0', 'roberta/encoder/layer_._4/output/LayerNorm/beta:0', 'roberta/encoder/layer_._4/attention/output/dense/bias:0', 'roberta/encoder/layer_._6/attention/self/key/kernel:0', 'roberta/encoder/layer_._6/intermediate/dense/bias:0', 'roberta/encoder/layer_._7/attention/self/query/bias:0', 'roberta/encoder/layer_._11/attention/self/value/bias:0', 'roberta/encoder/layer_._5/attention/self/key/kernel:0', 'roberta/encoder/layer_._10/attention/output/dense/kernel:0', 'roberta/encoder/layer_._4/output/dense/bias:0', 'roberta/encoder/layer_._5/attention/self/query/kernel:0', 'roberta/encoder/layer_._5/attention/output/LayerNorm/beta:0', 'roberta/encoder/layer_._6/output/dense/kernel:0', 'roberta/encoder/layer_._7/attention/self/value/bias:0', 'roberta/encoder/layer_._11/output/LayerNorm/beta:0', 'roberta/encoder/layer_._10/attention/output/LayerNorm/beta:0', 'roberta/encoder/layer_._4/attention/output/LayerNorm/beta:0', 'roberta/encoder/layer_._9/intermediate/dense/kernel:0', 'roberta/encoder/layer_._10/output/LayerNorm/gamma:0', 'roberta/encoder/layer_._3/output/dense/bias:0', 'roberta/encoder/layer_._10/attention/self/query/kernel:0', 'roberta/encoder/layer_._7/output/dense/bias:0', 'roberta/encoder/layer_._9/attention/output/dense/kernel:0', 'roberta/encoder/layer_._3/output/LayerNorm/gamma:0', 'roberta/encoder/layer_._8/attention/self/query/kernel:0', 'roberta/encoder/layer_._6/output/LayerNorm/beta:0', 'roberta/encoder/layer_._10/attention/self/query/bias:0', 'roberta/encoder/layer_._3/attention/self/query/kernel:0', 'roberta/encoder/layer_._7/attention/output/dense/bias:0', 'roberta/encoder/layer_._3/attention/output/LayerNorm/beta:0', 'roberta/encoder/layer_._6/attention/self/query/kernel:0', 'roberta/encoder/layer_._4/intermediate/dense/kernel:0', 'roberta/encoder/layer_._10/output/dense/bias:0', 'roberta/encoder/layer_._3/attention/output/LayerNorm/gamma:0', 'roberta/encoder/layer_._7/attention/output/dense/kernel:0', 'roberta/encoder/layer_._11/attention/output/dense/kernel:0', 'roberta/encoder/layer_._4/attention/self/key/kernel:0', 'roberta/encoder/layer_._7/output/LayerNorm/gamma:0', 'roberta/encoder/layer_._6/attention/self/value/bias:0', 'roberta/encoder/layer_._4/output/LayerNorm/gamma:0', 'roberta/encoder/layer_._5/attention/self/value/bias:0', 'roberta/encoder/layer_._4/attention/output/dense/kernel:0', 'roberta/encoder/layer_._8/attention/output/dense/bias:0', 'roberta/encoder/layer_._9/attention/self/value/bias:0', 'roberta/encoder/layer_._5/attention/output/LayerNorm/gamma:0', 'roberta/encoder/layer_._11/output/dense/bias:0', 'roberta/encoder/layer_._11/intermediate/dense/kernel:0', 'roberta/encoder/layer_._6/attention/self/value/kernel:0', 'roberta/encoder/layer_._9/attention/output/LayerNorm/gamma:0', 'roberta/encoder/layer_._11/intermediate/dense/bias:0', 'roberta/encoder/layer_._3/attention/output/dense/bias:0', 'roberta/encoder/layer_._7/output/dense/kernel:0', 'roberta/encoder/layer_._10/output/LayerNorm/beta:0', 'roberta/encoder/layer_._5/attention/self/query/bias:0', 'roberta/encoder/layer_._10/attention/output/LayerNorm/gamma:0', 'roberta/encoder/layer_._5/attention/output/dense/bias:0', 'roberta/encoder/layer_._7/attention/output/LayerNorm/beta:0', 'roberta/encoder/layer_._11/attention/output/dense/bias:0', 'roberta/encoder/layer_._10/attention/self/key/kernel:0', 'roberta/encoder/layer_._11/attention/output/LayerNorm/gamma:0', 'roberta/encoder/layer_._6/attention/output/dense/kernel:0', 'roberta/encoder/layer_._9/output/dense/bias:0', 'roberta/encoder/layer_._7/attention/self/key/bias:0', 'roberta/encoder/layer_._8/output/dense/bias:0', 'roberta/encoder/layer_._9/attention/output/dense/bias:0', 'roberta/encoder/layer_._4/attention/self/value/kernel:0', 'roberta/encoder/layer_._8/attention/output/LayerNorm/gamma:0', 'roberta/encoder/layer_._10/intermediate/dense/kernel:0', 'roberta/encoder/layer_._8/attention/output/dense/kernel:0', 'roberta/encoder/layer_._7/intermediate/dense/kernel:0', 'roberta/encoder/layer_._5/intermediate/dense/kernel:0', 'roberta/encoder/layer_._3/intermediate/dense/bias:0', 'roberta/encoder/layer_._5/output/LayerNorm/beta:0', 'roberta/encoder/layer_._10/output/dense/kernel:0', 'roberta/encoder/layer_._3/attention/self/key/bias:0', 'roberta/encoder/layer_._8/attention/self/key/bias:0', 'roberta/encoder/layer_._5/attention/output/dense/kernel:0', 'roberta/encoder/layer_._9/attention/self/key/bias:0', 'roberta/encoder/layer_._9/attention/output/LayerNorm/beta:0', 'roberta/encoder/layer_._3/attention/self/query/bias:0', 'roberta/encoder/layer_._9/output/LayerNorm/beta:0', 'roberta/encoder/layer_._3/attention/self/value/kernel:0', 'roberta/encoder/layer_._6/attention/self/key/bias:0', 'roberta/encoder/layer_._7/intermediate/dense/bias:0', 'roberta/encoder/layer_._11/output/dense/kernel:0', 'roberta/encoder/layer_._8/intermediate/dense/bias:0', 'roberta/encoder/layer_._10/attention/self/key/bias:0', 'roberta/encoder/layer_._5/attention/self/value/kernel:0', 'roberta/encoder/layer_._7/attention/self/key/kernel:0', 'roberta/encoder/layer_._7/output/LayerNorm/beta:0', 'roberta/encoder/layer_._8/attention/self/value/kernel:0', 'roberta/encoder/layer_._11/attention/self/value/kernel:0', 'roberta/encoder/layer_._11/attention/output/LayerNorm/beta:0', 'roberta/encoder/layer_._7/attention/self/value/kernel:0', 'roberta/encoder/layer_._4/attention/self/query/kernel:0', 'roberta/encoder/layer_._4/attention/self/key/bias:0', 'roberta/encoder/layer_._7/attention/self/query/kernel:0', 'roberta/encoder/layer_._6/output/dense/bias:0', 'roberta/encoder/layer_._11/attention/self/key/kernel:0']\n",
            "- This IS expected if you are initializing TFRobertaModel from the checkpoint of a model trained on another task or with another architecture (e.g. initializing a BertForSequenceClassification model from a BertForPreTraining model).\n",
            "- This IS NOT expected if you are initializing TFRobertaModel from the checkpoint of a model that you expect to be exactly identical (initializing a BertForSequenceClassification model from a BertForSequenceClassification model).\n",
            "All the layers of TFRobertaModel were initialized from the model checkpoint at cardiffnlp/twitter-roberta-base-emotion.\n",
            "If your task is similar to the task the model of the checkpoint was trained on, you can already use TFRobertaModel for predictions without further training.\n"
          ]
        }
      ]
    },
    {
      "cell_type": "code",
      "source": [
        "model.summary()"
      ],
      "metadata": {
        "colab": {
          "base_uri": "https://localhost:8080/"
        },
        "outputId": "b2e9abb4-2d1e-458d-8c90-c5f5435f2c87",
        "id": "kcIMEAYUwfgf"
      },
      "execution_count": 47,
      "outputs": [
        {
          "output_type": "stream",
          "name": "stdout",
          "text": [
            "Model: \"model_7\"\n",
            "__________________________________________________________________________________________________\n",
            " Layer (type)                   Output Shape         Param #     Connected to                     \n",
            "==================================================================================================\n",
            " input_ids1 (InputLayer)        [(None, 514)]        0           []                               \n",
            "                                                                                                  \n",
            " attention_mask1 (InputLayer)   [(None, 514)]        0           []                               \n",
            "                                                                                                  \n",
            " tf_roberta_model_8 (TFRobertaM  TFBaseModelOutputWi  60854784   ['input_ids1[0][0]',             \n",
            " odel)                          thPoolingAndCrossAt               'attention_mask1[0][0]']        \n",
            "                                tentions(last_hidde                                               \n",
            "                                n_state=(None, 514,                                               \n",
            "                                 768),                                                            \n",
            "                                 pooler_output=(Non                                               \n",
            "                                e, 768),                                                          \n",
            "                                 past_key_values=No                                               \n",
            "                                ne, hidden_states=N                                               \n",
            "                                one, attentions=Non                                               \n",
            "                                e, cross_attentions                                               \n",
            "                                =None)                                                            \n",
            "                                                                                                  \n",
            " global_max_pooling1d_6 (Global  (None, 768)         0           ['tf_roberta_model_8[0][0]']     \n",
            " MaxPooling1D)                                                                                    \n",
            "                                                                                                  \n",
            " dense_15 (Dense)               (None, 256)          196864      ['global_max_pooling1d_6[0][0]'] \n",
            "                                                                                                  \n",
            " dropout_205 (Dropout)          (None, 256)          0           ['dense_15[0][0]']               \n",
            "                                                                                                  \n",
            " dense_16 (Dense)               (None, 1)            257         ['dropout_205[0][0]']            \n",
            "                                                                                                  \n",
            "==================================================================================================\n",
            "Total params: 61,051,905\n",
            "Trainable params: 197,121\n",
            "Non-trainable params: 60,854,784\n",
            "__________________________________________________________________________________________________\n"
          ]
        }
      ]
    },
    {
      "cell_type": "code",
      "source": [
        "n_patch=300\n",
        "model.fit(train_dataset.shuffle(len(train_dataset)).batch(n_patch),\n",
        "          epochs=2,\n",
        "          validation_data=test_dataset.shuffle(len(test_dataset)).batch(n_patch))"
      ],
      "metadata": {
        "colab": {
          "base_uri": "https://localhost:8080/"
        },
        "id": "kY_ppd_bpwDA",
        "outputId": "dd18d130-1937-49a5-9a80-7a4302b95540"
      },
      "execution_count": 48,
      "outputs": [
        {
          "output_type": "stream",
          "name": "stdout",
          "text": [
            "Epoch 1/2\n",
            "37/37 [==============================] - 128s 3s/step - loss: 0.6881 - accuracy: 0.5753 - val_loss: 0.6532 - val_accuracy: 0.6833\n",
            "Epoch 2/2\n",
            "37/37 [==============================] - 129s 3s/step - loss: 0.5960 - accuracy: 0.6925 - val_loss: 0.5823 - val_accuracy: 0.7414\n"
          ]
        },
        {
          "output_type": "execute_result",
          "data": {
            "text/plain": [
              "<keras.callbacks.History at 0x7b8d006eacb0>"
            ]
          },
          "metadata": {},
          "execution_count": 48
        }
      ]
    },
    {
      "cell_type": "code",
      "source": [
        "pred = model.predict(test_dataset.batch(n_patch))\n",
        "y_pred = np.int64(pred > 0.5)\n"
      ],
      "metadata": {
        "colab": {
          "base_uri": "https://localhost:8080/"
        },
        "outputId": "ebff24d0-ef96-4c8f-c8ed-b62cc670561a",
        "id": "h4qNZiVktGXR"
      },
      "execution_count": 54,
      "outputs": [
        {
          "output_type": "stream",
          "name": "stdout",
          "text": [
            "10/10 [==============================] - 21s 2s/step\n"
          ]
        }
      ]
    },
    {
      "cell_type": "code",
      "source": [
        "all_pred=y_pred\n",
        "all_labels=y_test"
      ],
      "metadata": {
        "id": "FvqkfGT1DdKC"
      },
      "execution_count": 55,
      "outputs": []
    },
    {
      "cell_type": "code",
      "source": [
        "\n",
        "confusion = sklearn.metrics.confusion_matrix(y_true=all_labels, y_pred=all_pred)\n",
        "print('Confusion matrix: \\n',confusion)\n",
        "\n",
        "tn, fp, fn, tp = confusion.ravel()\n",
        "print('\\nTP:',tp)\n",
        "print('FP:',fp)\n",
        "print('TN:',tn)\n",
        "print('FN:',fn)\n",
        "\n",
        "\n",
        "\n",
        "## Performance measure\n",
        "print('\\nAccuracy: '+ str(sklearn.metrics.accuracy_score(y_true=all_labels, y_pred=all_pred)))\n",
        "print('Precision: '+ str(sklearn.metrics.precision_score(y_true=all_labels, y_pred=all_pred)))\n",
        "print('Recall: '+ str(sklearn.metrics.recall_score(y_true=all_labels, y_pred=all_pred)))\n",
        "print('F-measure: '+ str(sklearn.metrics.f1_score(y_true=all_labels, y_pred=all_pred)))\n"
      ],
      "metadata": {
        "colab": {
          "base_uri": "https://localhost:8080/"
        },
        "id": "NrLQq8oUDZwV",
        "outputId": "536b8f20-4e27-428b-92b3-a5f3f7bf6772"
      },
      "execution_count": 56,
      "outputs": [
        {
          "output_type": "stream",
          "name": "stdout",
          "text": [
            "Confusion matrix: \n",
            " [[ 575  685]\n",
            " [  23 1455]]\n",
            "\n",
            "TP: 1455\n",
            "FP: 685\n",
            "TN: 575\n",
            "FN: 23\n",
            "\n",
            "Accuracy: 0.7414170927684441\n",
            "Precision: 0.6799065420560748\n",
            "Recall: 0.9844384303112313\n",
            "F-measure: 0.8043117744610283\n"
          ]
        }
      ]
    }
  ]
}