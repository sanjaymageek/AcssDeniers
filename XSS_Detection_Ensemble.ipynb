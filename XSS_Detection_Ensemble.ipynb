{
  "nbformat": 4,
  "nbformat_minor": 0,
  "metadata": {
    "colab": {
      "provenance": [],
      "collapsed_sections": [
        "Yg3B6e5RhOVZ",
        "PDXLtqcvkg3f",
        "Dmu59QZ2kn-v",
        "sObYeyT4ksdO",
        "9UBtfWBMbUGP",
        "-JVpqL08c1eu",
        "tWonHYiAg57X"
      ],
      "machine_shape": "hm",
      "gpuType": "T4"
    },
    "kernelspec": {
      "name": "python3",
      "display_name": "Python 3"
    },
    "language_info": {
      "name": "python"
    },
    "accelerator": "GPU"
  },
  "cells": [
    {
      "cell_type": "code",
      "execution_count": null,
      "metadata": {
        "id": "h804_LHXf1ia"
      },
      "outputs": [],
      "source": [
        "# Dataset from https://github.com/xuantrung1803/XSS-Detection\n"
      ]
    },
    {
      "cell_type": "code",
      "source": [
        "import sklearn\n",
        "import numpy as np\n",
        "import pandas as pd\n",
        "from tqdm import tqdm\n",
        "import tensorflow as tf\n",
        "from sklearn.model_selection import train_test_split\n",
        "from sklearn.metrics import classification_report\n",
        "from sklearn.metrics import confusion_matrix, accuracy_score, precision_score, recall_score"
      ],
      "metadata": {
        "id": "cj5iPjORhrJN"
      },
      "execution_count": 13,
      "outputs": []
    },
    {
      "cell_type": "markdown",
      "source": [
        "# 1. Read Data"
      ],
      "metadata": {
        "id": "Yg3B6e5RhOVZ"
      }
    },
    {
      "cell_type": "code",
      "source": [
        "df = pd.read_csv('XSS_dataset.csv', encoding='utf-8-sig')\n",
        "df=df[['Sentence','Label']]\n",
        "df"
      ],
      "metadata": {
        "colab": {
          "base_uri": "https://localhost:8080/",
          "height": 424
        },
        "id": "WnpZIS6Mf4Z_",
        "outputId": "d0c334f8-aac9-4d9f-f86c-461994b6174b"
      },
      "execution_count": 14,
      "outputs": [
        {
          "output_type": "execute_result",
          "data": {
            "text/plain": [
              "                                                Sentence  Label\n",
              "0      <li><a href=\"/wiki/File:Socrates.png\" class=\"i...      0\n",
              "1                   <tt onmouseover=\"alert(1)\">test</tt>      1\n",
              "2      \\t </span> <span class=\"reference-text\">Steeri...      0\n",
              "3      \\t </span> <span class=\"reference-text\"><cite ...      0\n",
              "4      \\t </span>. <a href=\"/wiki/Digital_object_iden...      0\n",
              "...                                                  ...    ...\n",
              "13681             <img onpointerenter=alert(1)>XSS</img>      1\n",
              "13682  <source onbeforepaste=\"alert(1)\" contenteditab...      1\n",
              "13683  <div draggable=\"true\" contenteditable>drag me<...      1\n",
              "13684  <li><cite id=\"CITEREFDomingos2015\" class=\"cita...      0\n",
              "13685                                         \\t </span>      0\n",
              "\n",
              "[13686 rows x 2 columns]"
            ],
            "text/html": [
              "\n",
              "\n",
              "  <div id=\"df-b9c3f2d4-fd35-4c57-afba-00f4f032c449\">\n",
              "    <div class=\"colab-df-container\">\n",
              "      <div>\n",
              "<style scoped>\n",
              "    .dataframe tbody tr th:only-of-type {\n",
              "        vertical-align: middle;\n",
              "    }\n",
              "\n",
              "    .dataframe tbody tr th {\n",
              "        vertical-align: top;\n",
              "    }\n",
              "\n",
              "    .dataframe thead th {\n",
              "        text-align: right;\n",
              "    }\n",
              "</style>\n",
              "<table border=\"1\" class=\"dataframe\">\n",
              "  <thead>\n",
              "    <tr style=\"text-align: right;\">\n",
              "      <th></th>\n",
              "      <th>Sentence</th>\n",
              "      <th>Label</th>\n",
              "    </tr>\n",
              "  </thead>\n",
              "  <tbody>\n",
              "    <tr>\n",
              "      <th>0</th>\n",
              "      <td>&lt;li&gt;&lt;a href=\"/wiki/File:Socrates.png\" class=\"i...</td>\n",
              "      <td>0</td>\n",
              "    </tr>\n",
              "    <tr>\n",
              "      <th>1</th>\n",
              "      <td>&lt;tt onmouseover=\"alert(1)\"&gt;test&lt;/tt&gt;</td>\n",
              "      <td>1</td>\n",
              "    </tr>\n",
              "    <tr>\n",
              "      <th>2</th>\n",
              "      <td>\\t &lt;/span&gt; &lt;span class=\"reference-text\"&gt;Steeri...</td>\n",
              "      <td>0</td>\n",
              "    </tr>\n",
              "    <tr>\n",
              "      <th>3</th>\n",
              "      <td>\\t &lt;/span&gt; &lt;span class=\"reference-text\"&gt;&lt;cite ...</td>\n",
              "      <td>0</td>\n",
              "    </tr>\n",
              "    <tr>\n",
              "      <th>4</th>\n",
              "      <td>\\t &lt;/span&gt;. &lt;a href=\"/wiki/Digital_object_iden...</td>\n",
              "      <td>0</td>\n",
              "    </tr>\n",
              "    <tr>\n",
              "      <th>...</th>\n",
              "      <td>...</td>\n",
              "      <td>...</td>\n",
              "    </tr>\n",
              "    <tr>\n",
              "      <th>13681</th>\n",
              "      <td>&lt;img onpointerenter=alert(1)&gt;XSS&lt;/img&gt;</td>\n",
              "      <td>1</td>\n",
              "    </tr>\n",
              "    <tr>\n",
              "      <th>13682</th>\n",
              "      <td>&lt;source onbeforepaste=\"alert(1)\" contenteditab...</td>\n",
              "      <td>1</td>\n",
              "    </tr>\n",
              "    <tr>\n",
              "      <th>13683</th>\n",
              "      <td>&lt;div draggable=\"true\" contenteditable&gt;drag me&lt;...</td>\n",
              "      <td>1</td>\n",
              "    </tr>\n",
              "    <tr>\n",
              "      <th>13684</th>\n",
              "      <td>&lt;li&gt;&lt;cite id=\"CITEREFDomingos2015\" class=\"cita...</td>\n",
              "      <td>0</td>\n",
              "    </tr>\n",
              "    <tr>\n",
              "      <th>13685</th>\n",
              "      <td>\\t &lt;/span&gt;</td>\n",
              "      <td>0</td>\n",
              "    </tr>\n",
              "  </tbody>\n",
              "</table>\n",
              "<p>13686 rows × 2 columns</p>\n",
              "</div>\n",
              "      <button class=\"colab-df-convert\" onclick=\"convertToInteractive('df-b9c3f2d4-fd35-4c57-afba-00f4f032c449')\"\n",
              "              title=\"Convert this dataframe to an interactive table.\"\n",
              "              style=\"display:none;\">\n",
              "\n",
              "  <svg xmlns=\"http://www.w3.org/2000/svg\" height=\"24px\"viewBox=\"0 0 24 24\"\n",
              "       width=\"24px\">\n",
              "    <path d=\"M0 0h24v24H0V0z\" fill=\"none\"/>\n",
              "    <path d=\"M18.56 5.44l.94 2.06.94-2.06 2.06-.94-2.06-.94-.94-2.06-.94 2.06-2.06.94zm-11 1L8.5 8.5l.94-2.06 2.06-.94-2.06-.94L8.5 2.5l-.94 2.06-2.06.94zm10 10l.94 2.06.94-2.06 2.06-.94-2.06-.94-.94-2.06-.94 2.06-2.06.94z\"/><path d=\"M17.41 7.96l-1.37-1.37c-.4-.4-.92-.59-1.43-.59-.52 0-1.04.2-1.43.59L10.3 9.45l-7.72 7.72c-.78.78-.78 2.05 0 2.83L4 21.41c.39.39.9.59 1.41.59.51 0 1.02-.2 1.41-.59l7.78-7.78 2.81-2.81c.8-.78.8-2.07 0-2.86zM5.41 20L4 18.59l7.72-7.72 1.47 1.35L5.41 20z\"/>\n",
              "  </svg>\n",
              "      </button>\n",
              "\n",
              "\n",
              "\n",
              "    <div id=\"df-744f1af7-9cba-4129-8edc-870d413acf21\">\n",
              "      <button class=\"colab-df-quickchart\" onclick=\"quickchart('df-744f1af7-9cba-4129-8edc-870d413acf21')\"\n",
              "              title=\"Suggest charts.\"\n",
              "              style=\"display:none;\">\n",
              "\n",
              "<svg xmlns=\"http://www.w3.org/2000/svg\" height=\"24px\"viewBox=\"0 0 24 24\"\n",
              "     width=\"24px\">\n",
              "    <g>\n",
              "        <path d=\"M19 3H5c-1.1 0-2 .9-2 2v14c0 1.1.9 2 2 2h14c1.1 0 2-.9 2-2V5c0-1.1-.9-2-2-2zM9 17H7v-7h2v7zm4 0h-2V7h2v10zm4 0h-2v-4h2v4z\"/>\n",
              "    </g>\n",
              "</svg>\n",
              "      </button>\n",
              "    </div>\n",
              "\n",
              "<style>\n",
              "  .colab-df-quickchart {\n",
              "    background-color: #E8F0FE;\n",
              "    border: none;\n",
              "    border-radius: 50%;\n",
              "    cursor: pointer;\n",
              "    display: none;\n",
              "    fill: #1967D2;\n",
              "    height: 32px;\n",
              "    padding: 0 0 0 0;\n",
              "    width: 32px;\n",
              "  }\n",
              "\n",
              "  .colab-df-quickchart:hover {\n",
              "    background-color: #E2EBFA;\n",
              "    box-shadow: 0px 1px 2px rgba(60, 64, 67, 0.3), 0px 1px 3px 1px rgba(60, 64, 67, 0.15);\n",
              "    fill: #174EA6;\n",
              "  }\n",
              "\n",
              "  [theme=dark] .colab-df-quickchart {\n",
              "    background-color: #3B4455;\n",
              "    fill: #D2E3FC;\n",
              "  }\n",
              "\n",
              "  [theme=dark] .colab-df-quickchart:hover {\n",
              "    background-color: #434B5C;\n",
              "    box-shadow: 0px 1px 3px 1px rgba(0, 0, 0, 0.15);\n",
              "    filter: drop-shadow(0px 1px 2px rgba(0, 0, 0, 0.3));\n",
              "    fill: #FFFFFF;\n",
              "  }\n",
              "</style>\n",
              "\n",
              "    <script>\n",
              "      async function quickchart(key) {\n",
              "        const containerElement = document.querySelector('#' + key);\n",
              "        const charts = await google.colab.kernel.invokeFunction(\n",
              "            'suggestCharts', [key], {});\n",
              "      }\n",
              "    </script>\n",
              "\n",
              "      <script>\n",
              "\n",
              "function displayQuickchartButton(domScope) {\n",
              "  let quickchartButtonEl =\n",
              "    domScope.querySelector('#df-744f1af7-9cba-4129-8edc-870d413acf21 button.colab-df-quickchart');\n",
              "  quickchartButtonEl.style.display =\n",
              "    google.colab.kernel.accessAllowed ? 'block' : 'none';\n",
              "}\n",
              "\n",
              "        displayQuickchartButton(document);\n",
              "      </script>\n",
              "      <style>\n",
              "    .colab-df-container {\n",
              "      display:flex;\n",
              "      flex-wrap:wrap;\n",
              "      gap: 12px;\n",
              "    }\n",
              "\n",
              "    .colab-df-convert {\n",
              "      background-color: #E8F0FE;\n",
              "      border: none;\n",
              "      border-radius: 50%;\n",
              "      cursor: pointer;\n",
              "      display: none;\n",
              "      fill: #1967D2;\n",
              "      height: 32px;\n",
              "      padding: 0 0 0 0;\n",
              "      width: 32px;\n",
              "    }\n",
              "\n",
              "    .colab-df-convert:hover {\n",
              "      background-color: #E2EBFA;\n",
              "      box-shadow: 0px 1px 2px rgba(60, 64, 67, 0.3), 0px 1px 3px 1px rgba(60, 64, 67, 0.15);\n",
              "      fill: #174EA6;\n",
              "    }\n",
              "\n",
              "    [theme=dark] .colab-df-convert {\n",
              "      background-color: #3B4455;\n",
              "      fill: #D2E3FC;\n",
              "    }\n",
              "\n",
              "    [theme=dark] .colab-df-convert:hover {\n",
              "      background-color: #434B5C;\n",
              "      box-shadow: 0px 1px 3px 1px rgba(0, 0, 0, 0.15);\n",
              "      filter: drop-shadow(0px 1px 2px rgba(0, 0, 0, 0.3));\n",
              "      fill: #FFFFFF;\n",
              "    }\n",
              "  </style>\n",
              "\n",
              "      <script>\n",
              "        const buttonEl =\n",
              "          document.querySelector('#df-b9c3f2d4-fd35-4c57-afba-00f4f032c449 button.colab-df-convert');\n",
              "        buttonEl.style.display =\n",
              "          google.colab.kernel.accessAllowed ? 'block' : 'none';\n",
              "\n",
              "        async function convertToInteractive(key) {\n",
              "          const element = document.querySelector('#df-b9c3f2d4-fd35-4c57-afba-00f4f032c449');\n",
              "          const dataTable =\n",
              "            await google.colab.kernel.invokeFunction('convertToInteractive',\n",
              "                                                     [key], {});\n",
              "          if (!dataTable) return;\n",
              "\n",
              "          const docLinkHtml = 'Like what you see? Visit the ' +\n",
              "            '<a target=\"_blank\" href=https://colab.research.google.com/notebooks/data_table.ipynb>data table notebook</a>'\n",
              "            + ' to learn more about interactive tables.';\n",
              "          element.innerHTML = '';\n",
              "          dataTable['output_type'] = 'display_data';\n",
              "          await google.colab.output.renderOutput(dataTable, element);\n",
              "          const docLink = document.createElement('div');\n",
              "          docLink.innerHTML = docLinkHtml;\n",
              "          element.appendChild(docLink);\n",
              "        }\n",
              "      </script>\n",
              "    </div>\n",
              "  </div>\n"
            ]
          },
          "metadata": {},
          "execution_count": 14
        }
      ]
    },
    {
      "cell_type": "code",
      "source": [
        "def get_len(x):\n",
        "  return len(x.split(' '))\n",
        "tqdm.pandas()\n",
        "df['len']=df['Sentence'].progress_apply(lambda x: get_len(x))"
      ],
      "metadata": {
        "colab": {
          "base_uri": "https://localhost:8080/"
        },
        "id": "V2m56eTHh3c9",
        "outputId": "6455638f-f191-4cbb-9de2-36cfedad9846"
      },
      "execution_count": 29,
      "outputs": [
        {
          "output_type": "stream",
          "name": "stderr",
          "text": [
            "100%|██████████| 13686/13686 [00:00<00:00, 540779.89it/s]\n"
          ]
        }
      ]
    },
    {
      "cell_type": "code",
      "source": [
        "# df['len'].plot(kind='bar')"
      ],
      "metadata": {
        "id": "2MVQlhPNij1P"
      },
      "execution_count": 7,
      "outputs": []
    },
    {
      "cell_type": "code",
      "source": [
        "df['len'].mean()"
      ],
      "metadata": {
        "colab": {
          "base_uri": "https://localhost:8080/"
        },
        "id": "X5qCzPvGiqdC",
        "outputId": "57e777e7-2992-4b33-8ae4-64620be84aed"
      },
      "execution_count": 30,
      "outputs": [
        {
          "output_type": "execute_result",
          "data": {
            "text/plain": [
              "7.4049393540844655"
            ]
          },
          "metadata": {},
          "execution_count": 30
        }
      ]
    },
    {
      "cell_type": "markdown",
      "source": [
        "# 2. decode"
      ],
      "metadata": {
        "id": "PDXLtqcvkg3f"
      }
    },
    {
      "cell_type": "code",
      "source": [
        "def decode(X, max_len):\n",
        "    alphabet = \" abcdefghijklmnopqrstuvwxyz0123456789-,;.!?:'\\\"/\\\\|_@#$%^&*~`+-=<>()[]{}\"\n",
        "    result = []\n",
        "    for data in X:\n",
        "        mat = []\n",
        "        for ch in data:\n",
        "            if ch not in alphabet:\n",
        "                continue\n",
        "            mat.append(alphabet.index(ch))\n",
        "        result.append(mat)\n",
        "    X_char = tf.keras.preprocessing.sequence.pad_sequences(np.array(result, dtype=object), padding='post',\n",
        "                                                           truncating='post', maxlen=max_len)\n",
        "    return X_char\n"
      ],
      "metadata": {
        "id": "N6Yv__gIhj9G"
      },
      "execution_count": 31,
      "outputs": []
    },
    {
      "cell_type": "code",
      "source": [
        "data = df['Sentence'].values\n",
        "label = df['Label'].values"
      ],
      "metadata": {
        "id": "eyKzX1-Mhzem"
      },
      "execution_count": 32,
      "outputs": []
    },
    {
      "cell_type": "markdown",
      "source": [
        "# 3. train and test split"
      ],
      "metadata": {
        "id": "Dmu59QZ2kn-v"
      }
    },
    {
      "cell_type": "code",
      "source": [
        "from tensorflow.keras.utils import to_categorical\n",
        "labels_int=label\n",
        "labels_bin = to_categorical(labels_int)\n",
        "print('Shape of label tensor:', labels_bin.shape)"
      ],
      "metadata": {
        "colab": {
          "base_uri": "https://localhost:8080/"
        },
        "id": "6n1GMfALaknQ",
        "outputId": "de856763-ba2c-43c4-9dff-bbc23c416faa"
      },
      "execution_count": 34,
      "outputs": [
        {
          "output_type": "stream",
          "name": "stdout",
          "text": [
            "Shape of label tensor: (13686, 2)\n"
          ]
        }
      ]
    },
    {
      "cell_type": "code",
      "source": [
        "x_train1, x_test1, y_train, y_test = train_test_split(\n",
        "    data, labels_bin, test_size=0.2, random_state=42)\n",
        "maxlen=100\n",
        "x_train = decode(x_train1, max_len=maxlen)\n",
        "x_test = decode(x_test1, max_len=maxlen)\n"
      ],
      "metadata": {
        "id": "R5xMX7s3hw_p"
      },
      "execution_count": 35,
      "outputs": []
    },
    {
      "cell_type": "markdown",
      "source": [
        "# 4. CNN model"
      ],
      "metadata": {
        "id": "sObYeyT4ksdO"
      }
    },
    {
      "cell_type": "code",
      "source": [
        "from tensorflow import keras\n",
        "from tensorflow.keras.models import Model\n",
        "def Create_CNN(data,maxlen):\n",
        "\n",
        "  # txt input\n",
        "  word_input_cnn=keras.layers.Input(shape=(maxlen,),dtype='float64',name=\"txt_input_cnn\")\n",
        "  x=keras.layers.Embedding(input_dim=100,\n",
        "                           output_dim=100,\n",
        "                           input_length=maxlen,\n",
        "                           name=\"Embedd_cnn\")(word_input_cnn)\n",
        "\n",
        "  x=keras.layers.Conv1D(filters=64,\n",
        "                        kernel_size=2,\n",
        "                        activation='relu',\n",
        "                        padding=\"same\",\n",
        "                        name=\"cov_1\")(x)\n",
        "  x=keras.layers.MaxPool1D(pool_size=(2),name=\"maxpool1\")(x)\n",
        "\n",
        "  x=keras.layers.Conv1D(filters=128,\n",
        "                        kernel_size=2,\n",
        "                        activation='relu',\n",
        "                        padding=\"same\",\n",
        "                        name=\"cov_2\")(x)\n",
        "  x=keras.layers.MaxPool1D(pool_size=(2),name=\"maxpool2\")(x)\n",
        "  x=keras.layers.Flatten(name='flt_SMP')(x) # sequence max pool\n",
        "\n",
        "  x =keras.layers.Dense(256,activation=\"relu\",\n",
        "                                 name=\"dens_2\")(x)\n",
        "  x =keras.layers.Dropout(0.1)(x)\n",
        "  output= keras.layers.Dense(2, activation='softmax', name='out')(x)\n",
        "  model = Model(inputs=word_input_cnn,\n",
        "                       outputs=output)\n",
        "  opti=keras.optimizers.Adam(learning_rate=1e-5)\n",
        "  model.compile(loss='categorical_crossentropy',\n",
        "                       optimizer=opti,\n",
        "                       metrics='accuracy')\n",
        "  return model\n"
      ],
      "metadata": {
        "id": "mKjBFuRZVZ1J"
      },
      "execution_count": 49,
      "outputs": []
    },
    {
      "cell_type": "code",
      "source": [
        "CNN_embedding=Create_CNN(data=data,\n",
        "                         maxlen=maxlen)\n",
        "CNN_embedding.summary()"
      ],
      "metadata": {
        "colab": {
          "base_uri": "https://localhost:8080/"
        },
        "id": "rp5FeUrOV4GM",
        "outputId": "58480fb1-f889-46a1-c8b6-5581cf094613"
      },
      "execution_count": 50,
      "outputs": [
        {
          "output_type": "stream",
          "name": "stdout",
          "text": [
            "Model: \"model_7\"\n",
            "_________________________________________________________________\n",
            " Layer (type)                Output Shape              Param #   \n",
            "=================================================================\n",
            " txt_input_cnn (InputLayer)  [(None, 100)]             0         \n",
            "                                                                 \n",
            " Embedd_cnn (Embedding)      (None, 100, 100)          10000     \n",
            "                                                                 \n",
            " cov_1 (Conv1D)              (None, 100, 64)           12864     \n",
            "                                                                 \n",
            " maxpool1 (MaxPooling1D)     (None, 50, 64)            0         \n",
            "                                                                 \n",
            " cov_2 (Conv1D)              (None, 50, 128)           16512     \n",
            "                                                                 \n",
            " maxpool2 (MaxPooling1D)     (None, 25, 128)           0         \n",
            "                                                                 \n",
            " flt_SMP (Flatten)           (None, 3200)              0         \n",
            "                                                                 \n",
            " dens_2 (Dense)              (None, 256)               819456    \n",
            "                                                                 \n",
            " dropout_11 (Dropout)        (None, 256)               0         \n",
            "                                                                 \n",
            " out (Dense)                 (None, 2)                 514       \n",
            "                                                                 \n",
            "=================================================================\n",
            "Total params: 859,346\n",
            "Trainable params: 859,346\n",
            "Non-trainable params: 0\n",
            "_________________________________________________________________\n"
          ]
        }
      ]
    },
    {
      "cell_type": "code",
      "source": [
        "batch_size = 512\n",
        "num_epoch = 20\n",
        "model_log = CNN_embedding.fit(x_train,y_train,batch_size=batch_size,\n",
        "                      epochs=num_epoch,verbose=1,\n",
        "                      validation_data=(x_test, y_test))\n"
      ],
      "metadata": {
        "colab": {
          "base_uri": "https://localhost:8080/"
        },
        "id": "-Bs_bsnQXvXo",
        "outputId": "b3231319-b427-45ef-9a29-3383acd64094"
      },
      "execution_count": 51,
      "outputs": [
        {
          "output_type": "stream",
          "name": "stdout",
          "text": [
            "Epoch 1/20\n",
            "22/22 [==============================] - 4s 75ms/step - loss: 0.6894 - accuracy: 0.5515 - val_loss: 0.6831 - val_accuracy: 0.5409\n",
            "Epoch 2/20\n",
            "22/22 [==============================] - 1s 24ms/step - loss: 0.6778 - accuracy: 0.5832 - val_loss: 0.6715 - val_accuracy: 0.5774\n",
            "Epoch 3/20\n",
            "22/22 [==============================] - 0s 21ms/step - loss: 0.6655 - accuracy: 0.6362 - val_loss: 0.6588 - val_accuracy: 0.6618\n",
            "Epoch 4/20\n",
            "22/22 [==============================] - 0s 14ms/step - loss: 0.6521 - accuracy: 0.7073 - val_loss: 0.6450 - val_accuracy: 0.7290\n",
            "Epoch 5/20\n",
            "22/22 [==============================] - 0s 14ms/step - loss: 0.6374 - accuracy: 0.7472 - val_loss: 0.6295 - val_accuracy: 0.7637\n",
            "Epoch 6/20\n",
            "22/22 [==============================] - 0s 14ms/step - loss: 0.6207 - accuracy: 0.7889 - val_loss: 0.6125 - val_accuracy: 0.8031\n",
            "Epoch 7/20\n",
            "22/22 [==============================] - 0s 14ms/step - loss: 0.6024 - accuracy: 0.8076 - val_loss: 0.5937 - val_accuracy: 0.8035\n",
            "Epoch 8/20\n",
            "22/22 [==============================] - 0s 14ms/step - loss: 0.5827 - accuracy: 0.8089 - val_loss: 0.5736 - val_accuracy: 0.8093\n",
            "Epoch 9/20\n",
            "22/22 [==============================] - 0s 14ms/step - loss: 0.5620 - accuracy: 0.8134 - val_loss: 0.5528 - val_accuracy: 0.8152\n",
            "Epoch 10/20\n",
            "22/22 [==============================] - 0s 14ms/step - loss: 0.5401 - accuracy: 0.8167 - val_loss: 0.5308 - val_accuracy: 0.8156\n",
            "Epoch 11/20\n",
            "22/22 [==============================] - 0s 14ms/step - loss: 0.5176 - accuracy: 0.8193 - val_loss: 0.5076 - val_accuracy: 0.8181\n",
            "Epoch 12/20\n",
            "22/22 [==============================] - 0s 14ms/step - loss: 0.4945 - accuracy: 0.8200 - val_loss: 0.4843 - val_accuracy: 0.8214\n",
            "Epoch 13/20\n",
            "22/22 [==============================] - 0s 14ms/step - loss: 0.4709 - accuracy: 0.8242 - val_loss: 0.4607 - val_accuracy: 0.8210\n",
            "Epoch 14/20\n",
            "22/22 [==============================] - 0s 14ms/step - loss: 0.4479 - accuracy: 0.8272 - val_loss: 0.4369 - val_accuracy: 0.8232\n",
            "Epoch 15/20\n",
            "22/22 [==============================] - 0s 16ms/step - loss: 0.4245 - accuracy: 0.8323 - val_loss: 0.4129 - val_accuracy: 0.8331\n",
            "Epoch 16/20\n",
            "22/22 [==============================] - 0s 19ms/step - loss: 0.4010 - accuracy: 0.8420 - val_loss: 0.3893 - val_accuracy: 0.8422\n",
            "Epoch 17/20\n",
            "22/22 [==============================] - 0s 18ms/step - loss: 0.3777 - accuracy: 0.8558 - val_loss: 0.3662 - val_accuracy: 0.8539\n",
            "Epoch 18/20\n",
            "22/22 [==============================] - 0s 20ms/step - loss: 0.3556 - accuracy: 0.8696 - val_loss: 0.3438 - val_accuracy: 0.8649\n",
            "Epoch 19/20\n",
            "22/22 [==============================] - 0s 19ms/step - loss: 0.3337 - accuracy: 0.8860 - val_loss: 0.3219 - val_accuracy: 0.8941\n",
            "Epoch 20/20\n",
            "22/22 [==============================] - 0s 18ms/step - loss: 0.3126 - accuracy: 0.9063 - val_loss: 0.3013 - val_accuracy: 0.9061\n"
          ]
        }
      ]
    },
    {
      "cell_type": "code",
      "execution_count": 39,
      "metadata": {
        "id": "7A4kpSgYWXAW",
        "colab": {
          "base_uri": "https://localhost:8080/"
        },
        "outputId": "de97235a-66f1-4be6-ad13-eef7229cf24c"
      },
      "outputs": [
        {
          "output_type": "stream",
          "name": "stdout",
          "text": [
            "86/86 [==============================] - 0s 3ms/step\n"
          ]
        }
      ],
      "source": [
        "import numpy as np\n",
        "pred_test=CNN_embedding.predict(x_test)\n",
        "lbl_pred=np.argmax(pred_test,axis=1).astype(int)\n",
        "lbl_real=np.argmax(y_test,axis=1).astype(int)"
      ]
    },
    {
      "cell_type": "code",
      "execution_count": 40,
      "metadata": {
        "colab": {
          "base_uri": "https://localhost:8080/",
          "height": 465
        },
        "outputId": "ee2ea248-aa6c-4489-c8d7-75561fb009dd",
        "id": "sT45InqwWXAY"
      },
      "outputs": [
        {
          "output_type": "display_data",
          "data": {
            "text/plain": [
              "<Figure size 400x400 with 2 Axes>"
            ],
            "image/png": "[encoded data removed]"
          },
          "metadata": {}
        },
        {
          "output_type": "stream",
          "name": "stdout",
          "text": [
            "--------------------------------------------------\n",
            " accuracy: 0.920745069393718\n",
            "precision: 0.92463010795815\n",
            "   recall: 0.9172836522971841\n",
            " f1_score: 0.9196544421324855\n",
            "--------------------------------------------------\n"
          ]
        }
      ],
      "source": [
        "from sklearn.metrics import classification_report,accuracy_score,confusion_matrix\n",
        "from mlxtend.plotting import plot_confusion_matrix\n",
        "from sklearn.metrics import auc\n",
        "import matplotlib.pyplot as plt\n",
        "\n",
        "n_class=4\n",
        "\n",
        "classfi_report=classification_report(lbl_real, lbl_pred,output_dict=True)\n",
        "# save to array\n",
        "accuracy=accuracy_score(lbl_real, lbl_pred)\n",
        "precision=classfi_report['macro avg']['precision']\n",
        "recall= classfi_report['macro avg']['recall']\n",
        "f1_score=classfi_report['macro avg']['f1-score']\n",
        "Con_matrix=confusion_matrix(lbl_real, lbl_pred)\n",
        "fig, ax = plot_confusion_matrix(conf_mat=Con_matrix,\n",
        "                                show_absolute=True,\n",
        "                                show_normed=True,\n",
        "                                colorbar=True,\n",
        "                                figsize=(n_class,n_class) )\n",
        "ax.set_title('confusion_matrix of CNN_embedding ')\n",
        "plt.show()\n",
        "print(\"-\"*50)\n",
        "print(\" accuracy: {0}\".format(accuracy))\n",
        "print(\"precision: {0}\".format(precision))\n",
        "print(\"   recall: {0}\".format(recall))\n",
        "print(\" f1_score: {0}\".format(f1_score))\n",
        "print(\"-\"*50)"
      ]
    },
    {
      "cell_type": "markdown",
      "source": [
        "# 5. LSTM model"
      ],
      "metadata": {
        "id": "9UBtfWBMbUGP"
      }
    },
    {
      "cell_type": "code",
      "source": [
        "from tensorflow import keras\n",
        "from tensorflow.keras.models import Model\n",
        "def Create_LSTM(data,maxlen):\n",
        "\n",
        "\n",
        "  word_input_cnn=keras.layers.Input(shape=(maxlen,),dtype='float64',name=\"txt_input_cnn\")\n",
        "  x=keras.layers.Embedding(input_dim=100,\n",
        "                           output_dim=100,\n",
        "                           input_length=maxlen,\n",
        "                           name=\"Embedd_cnn\")(word_input_cnn)\n",
        "  x= keras.layers.LSTM(16, return_sequences=True)(x)\n",
        "  x=keras.layers.Dropout(0.5)(x)\n",
        "  x= keras.layers.LSTM(32, return_sequences=True)(x)\n",
        "  x=keras.layers.Flatten(name='flt_SMP')(x)\n",
        "  x =keras.layers.Dense(256,activation=\"relu\",\n",
        "                                 name=\"dens_2\")(x)\n",
        "  x =keras.layers.Dropout(0.1)(x)\n",
        "  output= keras.layers.Dense(2, activation='softmax', name='out')(x)\n",
        "  model = Model(inputs=word_input_cnn,\n",
        "                       outputs=output)\n",
        "  opti=keras.optimizers.Adam(learning_rate=1e-5)\n",
        "  model.compile(loss='categorical_crossentropy',\n",
        "                       optimizer=opti,\n",
        "                       metrics='accuracy')\n",
        "  return model\n"
      ],
      "metadata": {
        "id": "j1oBrq17bUGV"
      },
      "execution_count": 60,
      "outputs": []
    },
    {
      "cell_type": "code",
      "source": [
        "LSTM_embedding=Create_LSTM(data=data,\n",
        "                         maxlen=maxlen)\n",
        "LSTM_embedding.summary()"
      ],
      "metadata": {
        "colab": {
          "base_uri": "https://localhost:8080/"
        },
        "outputId": "cdbfffab-4445-4344-de5c-b56cd43832d6",
        "id": "MP-uwUvbbUGe"
      },
      "execution_count": 61,
      "outputs": [
        {
          "output_type": "stream",
          "name": "stdout",
          "text": [
            "Model: \"model_9\"\n",
            "_________________________________________________________________\n",
            " Layer (type)                Output Shape              Param #   \n",
            "=================================================================\n",
            " txt_input_cnn (InputLayer)  [(None, 100)]             0         \n",
            "                                                                 \n",
            " Embedd_cnn (Embedding)      (None, 100, 100)          10000     \n",
            "                                                                 \n",
            " lstm_4 (LSTM)               (None, 100, 16)           7488      \n",
            "                                                                 \n",
            " dropout_12 (Dropout)        (None, 100, 16)           0         \n",
            "                                                                 \n",
            " lstm_5 (LSTM)               (None, 100, 32)           6272      \n",
            "                                                                 \n",
            " flt_SMP (Flatten)           (None, 3200)              0         \n",
            "                                                                 \n",
            " dens_2 (Dense)              (None, 256)               819456    \n",
            "                                                                 \n",
            " dropout_13 (Dropout)        (None, 256)               0         \n",
            "                                                                 \n",
            " out (Dense)                 (None, 2)                 514       \n",
            "                                                                 \n",
            "=================================================================\n",
            "Total params: 843,730\n",
            "Trainable params: 843,730\n",
            "Non-trainable params: 0\n",
            "_________________________________________________________________\n"
          ]
        }
      ]
    },
    {
      "cell_type": "code",
      "source": [
        "batch_size = 512\n",
        "num_epoch = 20\n",
        "model_log = LSTM_embedding.fit(x_train,y_train,batch_size=batch_size,\n",
        "                      epochs=num_epoch,verbose=1,\n",
        "                      validation_data=(x_test, y_test))\n"
      ],
      "metadata": {
        "colab": {
          "base_uri": "https://localhost:8080/"
        },
        "outputId": "cbcc24ad-dcea-4f26-9b73-bbb890dee1ad",
        "id": "-Ns2Gox8bUGg"
      },
      "execution_count": 62,
      "outputs": [
        {
          "output_type": "stream",
          "name": "stdout",
          "text": [
            "Epoch 1/20\n",
            "22/22 [==============================] - 7s 126ms/step - loss: 0.6876 - accuracy: 0.5543 - val_loss: 0.6806 - val_accuracy: 0.5424\n",
            "Epoch 2/20\n",
            "22/22 [==============================] - 1s 28ms/step - loss: 0.6759 - accuracy: 0.5883 - val_loss: 0.6682 - val_accuracy: 0.5796\n",
            "Epoch 3/20\n",
            "22/22 [==============================] - 0s 15ms/step - loss: 0.6631 - accuracy: 0.6461 - val_loss: 0.6542 - val_accuracy: 0.6822\n",
            "Epoch 4/20\n",
            "22/22 [==============================] - 0s 15ms/step - loss: 0.6485 - accuracy: 0.7107 - val_loss: 0.6375 - val_accuracy: 0.7462\n",
            "Epoch 5/20\n",
            "22/22 [==============================] - 0s 15ms/step - loss: 0.6309 - accuracy: 0.7487 - val_loss: 0.6185 - val_accuracy: 0.7684\n",
            "Epoch 6/20\n",
            "22/22 [==============================] - 0s 22ms/step - loss: 0.6112 - accuracy: 0.7684 - val_loss: 0.5966 - val_accuracy: 0.7736\n",
            "Epoch 7/20\n",
            "22/22 [==============================] - 0s 15ms/step - loss: 0.5892 - accuracy: 0.7807 - val_loss: 0.5731 - val_accuracy: 0.7816\n",
            "Epoch 8/20\n",
            "22/22 [==============================] - 0s 15ms/step - loss: 0.5651 - accuracy: 0.7886 - val_loss: 0.5485 - val_accuracy: 0.7904\n",
            "Epoch 9/20\n",
            "22/22 [==============================] - 0s 15ms/step - loss: 0.5412 - accuracy: 0.7929 - val_loss: 0.5236 - val_accuracy: 0.7911\n",
            "Epoch 10/20\n",
            "22/22 [==============================] - 0s 15ms/step - loss: 0.5162 - accuracy: 0.7999 - val_loss: 0.4991 - val_accuracy: 0.7980\n",
            "Epoch 11/20\n",
            "22/22 [==============================] - 1s 29ms/step - loss: 0.4924 - accuracy: 0.8054 - val_loss: 0.4752 - val_accuracy: 0.8006\n",
            "Epoch 12/20\n",
            "22/22 [==============================] - 0s 15ms/step - loss: 0.4694 - accuracy: 0.8084 - val_loss: 0.4525 - val_accuracy: 0.8039\n",
            "Epoch 13/20\n",
            "22/22 [==============================] - 0s 15ms/step - loss: 0.4471 - accuracy: 0.8105 - val_loss: 0.4308 - val_accuracy: 0.8053\n",
            "Epoch 14/20\n",
            "22/22 [==============================] - 0s 15ms/step - loss: 0.4256 - accuracy: 0.8124 - val_loss: 0.4099 - val_accuracy: 0.8097\n",
            "Epoch 15/20\n",
            "22/22 [==============================] - 0s 16ms/step - loss: 0.4045 - accuracy: 0.8154 - val_loss: 0.3886 - val_accuracy: 0.8108\n",
            "Epoch 16/20\n",
            "22/22 [==============================] - 0s 15ms/step - loss: 0.3835 - accuracy: 0.8179 - val_loss: 0.3669 - val_accuracy: 0.8159\n",
            "Epoch 17/20\n",
            "22/22 [==============================] - 0s 15ms/step - loss: 0.3610 - accuracy: 0.8235 - val_loss: 0.3454 - val_accuracy: 0.8210\n",
            "Epoch 18/20\n",
            "22/22 [==============================] - 0s 15ms/step - loss: 0.3402 - accuracy: 0.8309 - val_loss: 0.3247 - val_accuracy: 0.8364\n",
            "Epoch 19/20\n",
            "22/22 [==============================] - 0s 15ms/step - loss: 0.3199 - accuracy: 0.8464 - val_loss: 0.3049 - val_accuracy: 0.8484\n",
            "Epoch 20/20\n",
            "22/22 [==============================] - 0s 18ms/step - loss: 0.2999 - accuracy: 0.8692 - val_loss: 0.2861 - val_accuracy: 0.8842\n"
          ]
        }
      ]
    },
    {
      "cell_type": "code",
      "execution_count": 63,
      "metadata": {
        "colab": {
          "base_uri": "https://localhost:8080/"
        },
        "outputId": "7dc2804b-1a21-4212-ceb2-91b38dbd72cb",
        "id": "0nGwi8sZbUGh"
      },
      "outputs": [
        {
          "output_type": "stream",
          "name": "stdout",
          "text": [
            "86/86 [==============================] - 1s 6ms/step\n"
          ]
        }
      ],
      "source": [
        "import numpy as np\n",
        "pred_test=LSTM_embedding.predict(x_test)\n",
        "lbl_pred=np.argmax(pred_test,axis=1).astype(int)\n",
        "lbl_real=np.argmax(y_test,axis=1).astype(int)"
      ]
    },
    {
      "cell_type": "code",
      "execution_count": 65,
      "metadata": {
        "colab": {
          "base_uri": "https://localhost:8080/",
          "height": 465
        },
        "outputId": "4d5d10ab-4dc8-4a20-f0c0-02b053778efa",
        "id": "6xaJcVgFbUGi"
      },
      "outputs": [
        {
          "output_type": "display_data",
          "data": {
            "text/plain": [
              "<Figure size 400x400 with 2 Axes>"
            ],
            "image/png": "[encoded data removed]"
          },
          "metadata": {}
        },
        {
          "output_type": "stream",
          "name": "stdout",
          "text": [
            "--------------------------------------------------\n",
            " accuracy: 0.8842220598977356\n",
            "precision: 0.8831929714700129\n",
            "   recall: 0.8844491698348261\n",
            " f1_score: 0.8836910658594753\n",
            "--------------------------------------------------\n"
          ]
        }
      ],
      "source": [
        "from sklearn.metrics import classification_report,accuracy_score,confusion_matrix\n",
        "from mlxtend.plotting import plot_confusion_matrix\n",
        "from sklearn.metrics import auc\n",
        "import matplotlib.pyplot as plt\n",
        "\n",
        "n_class=4\n",
        "\n",
        "classfi_report=classification_report(lbl_real, lbl_pred,output_dict=True)\n",
        "# save to array\n",
        "accuracy=accuracy_score(lbl_real, lbl_pred)\n",
        "precision=classfi_report['macro avg']['precision']\n",
        "recall= classfi_report['macro avg']['recall']\n",
        "f1_score=classfi_report['macro avg']['f1-score']\n",
        "Con_matrix=confusion_matrix(lbl_real, lbl_pred)\n",
        "fig, ax = plot_confusion_matrix(conf_mat=Con_matrix,\n",
        "                                show_absolute=True,\n",
        "                                show_normed=True,\n",
        "                                colorbar=True,\n",
        "                                figsize=(n_class,n_class) )\n",
        "ax.set_title('confusion_matrix of LSTM_embedding ')\n",
        "plt.show()\n",
        "print(\"-\"*50)\n",
        "print(\" accuracy: {0}\".format(accuracy))\n",
        "print(\"precision: {0}\".format(precision))\n",
        "print(\"   recall: {0}\".format(recall))\n",
        "print(\" f1_score: {0}\".format(f1_score))\n",
        "print(\"-\"*50)"
      ]
    },
    {
      "cell_type": "markdown",
      "source": [
        "# 6.CNN_RF"
      ],
      "metadata": {
        "id": "-JVpqL08c1eu"
      }
    },
    {
      "cell_type": "code",
      "source": [
        "def get_feature_extraction_batch(layer_extract,data,dim_ext):\n",
        "    N=data.shape[0]\n",
        "    lst=list(range(N))\n",
        "    batch_idx=[lst[i:i + 512 ] for i in range(0, N, 512 )]\n",
        "    feature_extract=np.array([]).reshape(0,dim_ext)\n",
        "    for item_idx in batch_idx:\n",
        "      feature_new=layer_extract(data[item_idx])\n",
        "      feature_extract=np.concatenate((feature_extract,feature_new),axis=0)\n",
        "    return feature_extract"
      ],
      "metadata": {
        "id": "fgc1DkYIeB_X"
      },
      "execution_count": 67,
      "outputs": []
    },
    {
      "cell_type": "code",
      "source": [
        "# feature extraction\n",
        "extract_layer_CNN = tf.keras.models.Model(inputs=CNN_embedding.inputs,\n",
        "                                          outputs=CNN_embedding.get_layer(name=\"flt_SMP\").output)\n",
        "\n",
        "dim_cnn=CNN_embedding.get_layer(name=\"flt_SMP\").output.shape[1]\n",
        "feature_Train=get_feature_extraction_batch(extract_layer_CNN,x_train,dim_cnn)\n",
        "feature_Test=get_feature_extraction_batch(extract_layer_CNN,x_test,dim_cnn)\n"
      ],
      "metadata": {
        "id": "85WCNcMEc-Tl"
      },
      "execution_count": 68,
      "outputs": []
    },
    {
      "cell_type": "code",
      "source": [
        "from sklearn.ensemble import RandomForestClassifier\n",
        "RF_model = RandomForestClassifier(max_depth=10, random_state=0)\n",
        "RF_model.fit(feature_Train,np.argmax(y_train,axis=1))"
      ],
      "metadata": {
        "colab": {
          "base_uri": "https://localhost:8080/",
          "height": 95
        },
        "id": "EojK3lTRgVJg",
        "outputId": "2186edd5-56a3-4b16-922d-68aec66862a7"
      },
      "execution_count": 76,
      "outputs": [
        {
          "output_type": "execute_result",
          "data": {
            "text/plain": [
              "RandomForestClassifier(max_depth=10, random_state=0)"
            ],
            "text/html": [
              "<style>#sk-container-id-4 {color: black;background-color: white;}#sk-container-id-4 pre{padding: 0;}#sk-container-id-4 div.sk-toggleable {background-color: white;}#sk-container-id-4 label.sk-toggleable__label {cursor: pointer;display: block;width: 100%;margin-bottom: 0;padding: 0.3em;box-sizing: border-box;text-align: center;}#sk-container-id-4 label.sk-toggleable__label-arrow:before {content: \"▸\";float: left;margin-right: 0.25em;color: #696969;}#sk-container-id-4 label.sk-toggleable__label-arrow:hover:before {color: black;}#sk-container-id-4 div.sk-estimator:hover label.sk-toggleable__label-arrow:before {color: black;}#sk-container-id-4 div.sk-toggleable__content {max-height: 0;max-width: 0;overflow: hidden;text-align: left;background-color: #f0f8ff;}#sk-container-id-4 div.sk-toggleable__content pre {margin: 0.2em;color: black;border-radius: 0.25em;background-color: #f0f8ff;}#sk-container-id-4 input.sk-toggleable__control:checked~div.sk-toggleable__content {max-height: 200px;max-width: 100%;overflow: auto;}#sk-container-id-4 input.sk-toggleable__control:checked~label.sk-toggleable__label-arrow:before {content: \"▾\";}#sk-container-id-4 div.sk-estimator input.sk-toggleable__control:checked~label.sk-toggleable__label {background-color: #d4ebff;}#sk-container-id-4 div.sk-label input.sk-toggleable__control:checked~label.sk-toggleable__label {background-color: #d4ebff;}#sk-container-id-4 input.sk-hidden--visually {border: 0;clip: rect(1px 1px 1px 1px);clip: rect(1px, 1px, 1px, 1px);height: 1px;margin: -1px;overflow: hidden;padding: 0;position: absolute;width: 1px;}#sk-container-id-4 div.sk-estimator {font-family: monospace;background-color: #f0f8ff;border: 1px dotted black;border-radius: 0.25em;box-sizing: border-box;margin-bottom: 0.5em;}#sk-container-id-4 div.sk-estimator:hover {background-color: #d4ebff;}#sk-container-id-4 div.sk-parallel-item::after {content: \"\";width: 100%;border-bottom: 1px solid gray;flex-grow: 1;}#sk-container-id-4 div.sk-label:hover label.sk-toggleable__label {background-color: #d4ebff;}#sk-container-id-4 div.sk-serial::before {content: \"\";position: absolute;border-left: 1px solid gray;box-sizing: border-box;top: 0;bottom: 0;left: 50%;z-index: 0;}#sk-container-id-4 div.sk-serial {display: flex;flex-direction: column;align-items: center;background-color: white;padding-right: 0.2em;padding-left: 0.2em;position: relative;}#sk-container-id-4 div.sk-item {position: relative;z-index: 1;}#sk-container-id-4 div.sk-parallel {display: flex;align-items: stretch;justify-content: center;background-color: white;position: relative;}#sk-container-id-4 div.sk-item::before, #sk-container-id-4 div.sk-parallel-item::before {content: \"\";position: absolute;border-left: 1px solid gray;box-sizing: border-box;top: 0;bottom: 0;left: 50%;z-index: -1;}#sk-container-id-4 div.sk-parallel-item {display: flex;flex-direction: column;z-index: 1;position: relative;background-color: white;}#sk-container-id-4 div.sk-parallel-item:first-child::after {align-self: flex-end;width: 50%;}#sk-container-id-4 div.sk-parallel-item:last-child::after {align-self: flex-start;width: 50%;}#sk-container-id-4 div.sk-parallel-item:only-child::after {width: 0;}#sk-container-id-4 div.sk-dashed-wrapped {border: 1px dashed gray;margin: 0 0.4em 0.5em 0.4em;box-sizing: border-box;padding-bottom: 0.4em;background-color: white;}#sk-container-id-4 div.sk-label label {font-family: monospace;font-weight: bold;display: inline-block;line-height: 1.2em;}#sk-container-id-4 div.sk-label-container {text-align: center;}#sk-container-id-4 div.sk-container {/* jupyter's `normalize.less` sets `[hidden] { display: none; }` but bootstrap.min.css set `[hidden] { display: none !important; }` so we also need the `!important` here to be able to override the default hidden behavior on the sphinx rendered scikit-learn.org. See: https://github.com/scikit-learn/scikit-learn/issues/21755 */display: inline-block !important;position: relative;}#sk-container-id-4 div.sk-text-repr-fallback {display: none;}</style><div id=\"sk-container-id-4\" class=\"sk-top-container\"><div class=\"sk-text-repr-fallback\"><pre>RandomForestClassifier(max_depth=10, random_state=0)</pre><b>In a Jupyter environment, please rerun this cell to show the HTML representation or trust the notebook. <br />On GitHub, the HTML representation is unable to render, please try loading this page with nbviewer.org.</b></div><div class=\"sk-container\" hidden><div class=\"sk-item\"><div class=\"sk-estimator sk-toggleable\"><input class=\"sk-toggleable__control sk-hidden--visually\" id=\"sk-estimator-id-4\" type=\"checkbox\" checked><label for=\"sk-estimator-id-4\" class=\"sk-toggleable__label sk-toggleable__label-arrow\">RandomForestClassifier</label><div class=\"sk-toggleable__content\"><pre>RandomForestClassifier(max_depth=10, random_state=0)</pre></div></div></div></div></div>"
            ]
          },
          "metadata": {},
          "execution_count": 76
        }
      ]
    },
    {
      "cell_type": "code",
      "execution_count": 77,
      "metadata": {
        "id": "pEWRKSzMgsAW"
      },
      "outputs": [],
      "source": [
        "import numpy as np\n",
        "pred_test=RF_model.predict(feature_Test)\n",
        "lbl_pred=pred_test.astype(int)\n",
        "lbl_real=np.argmax(y_test,axis=1).astype(int)"
      ]
    },
    {
      "cell_type": "code",
      "execution_count": 59,
      "metadata": {
        "colab": {
          "base_uri": "https://localhost:8080/",
          "height": 465
        },
        "outputId": "dc34c12c-47b8-4fd2-cf3e-847187858ede",
        "id": "CfnvpYwygsAa"
      },
      "outputs": [
        {
          "output_type": "display_data",
          "data": {
            "text/plain": [
              "<Figure size 400x400 with 2 Axes>"
            ],
            "image/png": "[encoded data removed]"
          },
          "metadata": {}
        },
        {
          "output_type": "stream",
          "name": "stdout",
          "text": [
            "--------------------------------------------------\n",
            " accuracy: 0.9919649379108838\n",
            "precision: 0.9923626919816335\n",
            "   recall: 0.9915039628842065\n",
            " f1_score: 0.9919068310129762\n",
            "--------------------------------------------------\n"
          ]
        }
      ],
      "source": [
        "from sklearn.metrics import classification_report,accuracy_score,confusion_matrix\n",
        "from mlxtend.plotting import plot_confusion_matrix\n",
        "from sklearn.metrics import auc\n",
        "import matplotlib.pyplot as plt\n",
        "\n",
        "n_class=4\n",
        "\n",
        "classfi_report=classification_report(lbl_real, lbl_pred,output_dict=True)\n",
        "# save to array\n",
        "accuracy=accuracy_score(lbl_real, lbl_pred)\n",
        "precision=classfi_report['macro avg']['precision']\n",
        "recall= classfi_report['macro avg']['recall']\n",
        "f1_score=classfi_report['macro avg']['f1-score']\n",
        "Con_matrix=confusion_matrix(lbl_real, lbl_pred)\n",
        "fig, ax = plot_confusion_matrix(conf_mat=Con_matrix,\n",
        "                                show_absolute=True,\n",
        "                                show_normed=True,\n",
        "                                colorbar=True,\n",
        "                                figsize=(n_class,n_class) )\n",
        "ax.set_title('confusion_matrix of CNN_RF ')\n",
        "plt.show()\n",
        "print(\"-\"*50)\n",
        "print(\" accuracy: {0}\".format(accuracy))\n",
        "print(\"precision: {0}\".format(precision))\n",
        "print(\"   recall: {0}\".format(recall))\n",
        "print(\" f1_score: {0}\".format(f1_score))\n",
        "print(\"-\"*50)"
      ]
    },
    {
      "cell_type": "markdown",
      "source": [
        "# 7.LSTM_RF"
      ],
      "metadata": {
        "id": "tWonHYiAg57X"
      }
    },
    {
      "cell_type": "code",
      "source": [
        "def get_feature_extraction_batch(layer_extract,data,dim_ext):\n",
        "    N=data.shape[0]\n",
        "    lst=list(range(N))\n",
        "    batch_idx=[lst[i:i + 512 ] for i in range(0, N, 512 )]\n",
        "    feature_extract=np.array([]).reshape(0,dim_ext)\n",
        "    for item_idx in batch_idx:\n",
        "      feature_new=layer_extract(data[item_idx])\n",
        "      feature_extract=np.concatenate((feature_extract,feature_new),axis=0)\n",
        "    return feature_extract"
      ],
      "metadata": {
        "id": "SCDI5e5Gg57a"
      },
      "execution_count": 78,
      "outputs": []
    },
    {
      "cell_type": "code",
      "source": [
        "# feature extraction\n",
        "extract_layer_LSTM = tf.keras.models.Model(inputs=LSTM_embedding.inputs,\n",
        "                                          outputs=LSTM_embedding.get_layer(name=\"flt_SMP\").output)\n",
        "\n",
        "dim_cnn=LSTM_embedding.get_layer(name=\"flt_SMP\").output.shape[1]\n",
        "feature_Train=get_feature_extraction_batch(extract_layer_LSTM,x_train,dim_cnn)\n",
        "feature_Test=get_feature_extraction_batch(extract_layer_LSTM,x_test,dim_cnn)\n"
      ],
      "metadata": {
        "id": "EBD4r-kUg57g"
      },
      "execution_count": 79,
      "outputs": []
    },
    {
      "cell_type": "code",
      "source": [
        "from sklearn.ensemble import RandomForestClassifier\n",
        "RF_model = RandomForestClassifier(max_depth=10, random_state=0)\n",
        "RF_model.fit(feature_Train,np.argmax(y_train,axis=1))"
      ],
      "metadata": {
        "colab": {
          "base_uri": "https://localhost:8080/",
          "height": 95
        },
        "outputId": "763c8632-21f6-49de-edf8-95dcf92d0699",
        "id": "Ac68aS4vg57k"
      },
      "execution_count": 80,
      "outputs": [
        {
          "output_type": "execute_result",
          "data": {
            "text/plain": [
              "RandomForestClassifier(max_depth=10, random_state=0)"
            ],
            "text/html": [
              "<style>#sk-container-id-5 {color: black;background-color: white;}#sk-container-id-5 pre{padding: 0;}#sk-container-id-5 div.sk-toggleable {background-color: white;}#sk-container-id-5 label.sk-toggleable__label {cursor: pointer;display: block;width: 100%;margin-bottom: 0;padding: 0.3em;box-sizing: border-box;text-align: center;}#sk-container-id-5 label.sk-toggleable__label-arrow:before {content: \"▸\";float: left;margin-right: 0.25em;color: #696969;}#sk-container-id-5 label.sk-toggleable__label-arrow:hover:before {color: black;}#sk-container-id-5 div.sk-estimator:hover label.sk-toggleable__label-arrow:before {color: black;}#sk-container-id-5 div.sk-toggleable__content {max-height: 0;max-width: 0;overflow: hidden;text-align: left;background-color: #f0f8ff;}#sk-container-id-5 div.sk-toggleable__content pre {margin: 0.2em;color: black;border-radius: 0.25em;background-color: #f0f8ff;}#sk-container-id-5 input.sk-toggleable__control:checked~div.sk-toggleable__content {max-height: 200px;max-width: 100%;overflow: auto;}#sk-container-id-5 input.sk-toggleable__control:checked~label.sk-toggleable__label-arrow:before {content: \"▾\";}#sk-container-id-5 div.sk-estimator input.sk-toggleable__control:checked~label.sk-toggleable__label {background-color: #d4ebff;}#sk-container-id-5 div.sk-label input.sk-toggleable__control:checked~label.sk-toggleable__label {background-color: #d4ebff;}#sk-container-id-5 input.sk-hidden--visually {border: 0;clip: rect(1px 1px 1px 1px);clip: rect(1px, 1px, 1px, 1px);height: 1px;margin: -1px;overflow: hidden;padding: 0;position: absolute;width: 1px;}#sk-container-id-5 div.sk-estimator {font-family: monospace;background-color: #f0f8ff;border: 1px dotted black;border-radius: 0.25em;box-sizing: border-box;margin-bottom: 0.5em;}#sk-container-id-5 div.sk-estimator:hover {background-color: #d4ebff;}#sk-container-id-5 div.sk-parallel-item::after {content: \"\";width: 100%;border-bottom: 1px solid gray;flex-grow: 1;}#sk-container-id-5 div.sk-label:hover label.sk-toggleable__label {background-color: #d4ebff;}#sk-container-id-5 div.sk-serial::before {content: \"\";position: absolute;border-left: 1px solid gray;box-sizing: border-box;top: 0;bottom: 0;left: 50%;z-index: 0;}#sk-container-id-5 div.sk-serial {display: flex;flex-direction: column;align-items: center;background-color: white;padding-right: 0.2em;padding-left: 0.2em;position: relative;}#sk-container-id-5 div.sk-item {position: relative;z-index: 1;}#sk-container-id-5 div.sk-parallel {display: flex;align-items: stretch;justify-content: center;background-color: white;position: relative;}#sk-container-id-5 div.sk-item::before, #sk-container-id-5 div.sk-parallel-item::before {content: \"\";position: absolute;border-left: 1px solid gray;box-sizing: border-box;top: 0;bottom: 0;left: 50%;z-index: -1;}#sk-container-id-5 div.sk-parallel-item {display: flex;flex-direction: column;z-index: 1;position: relative;background-color: white;}#sk-container-id-5 div.sk-parallel-item:first-child::after {align-self: flex-end;width: 50%;}#sk-container-id-5 div.sk-parallel-item:last-child::after {align-self: flex-start;width: 50%;}#sk-container-id-5 div.sk-parallel-item:only-child::after {width: 0;}#sk-container-id-5 div.sk-dashed-wrapped {border: 1px dashed gray;margin: 0 0.4em 0.5em 0.4em;box-sizing: border-box;padding-bottom: 0.4em;background-color: white;}#sk-container-id-5 div.sk-label label {font-family: monospace;font-weight: bold;display: inline-block;line-height: 1.2em;}#sk-container-id-5 div.sk-label-container {text-align: center;}#sk-container-id-5 div.sk-container {/* jupyter's `normalize.less` sets `[hidden] { display: none; }` but bootstrap.min.css set `[hidden] { display: none !important; }` so we also need the `!important` here to be able to override the default hidden behavior on the sphinx rendered scikit-learn.org. See: https://github.com/scikit-learn/scikit-learn/issues/21755 */display: inline-block !important;position: relative;}#sk-container-id-5 div.sk-text-repr-fallback {display: none;}</style><div id=\"sk-container-id-5\" class=\"sk-top-container\"><div class=\"sk-text-repr-fallback\"><pre>RandomForestClassifier(max_depth=10, random_state=0)</pre><b>In a Jupyter environment, please rerun this cell to show the HTML representation or trust the notebook. <br />On GitHub, the HTML representation is unable to render, please try loading this page with nbviewer.org.</b></div><div class=\"sk-container\" hidden><div class=\"sk-item\"><div class=\"sk-estimator sk-toggleable\"><input class=\"sk-toggleable__control sk-hidden--visually\" id=\"sk-estimator-id-5\" type=\"checkbox\" checked><label for=\"sk-estimator-id-5\" class=\"sk-toggleable__label sk-toggleable__label-arrow\">RandomForestClassifier</label><div class=\"sk-toggleable__content\"><pre>RandomForestClassifier(max_depth=10, random_state=0)</pre></div></div></div></div></div>"
            ]
          },
          "metadata": {},
          "execution_count": 80
        }
      ]
    },
    {
      "cell_type": "code",
      "execution_count": 81,
      "metadata": {
        "id": "duwBVRu4g57o"
      },
      "outputs": [],
      "source": [
        "import numpy as np\n",
        "pred_test=RF_model.predict(feature_Test)\n",
        "lbl_pred=pred_test.astype(int)\n",
        "lbl_real=np.argmax(y_test,axis=1).astype(int)"
      ]
    },
    {
      "cell_type": "code",
      "execution_count": 82,
      "metadata": {
        "colab": {
          "base_uri": "https://localhost:8080/",
          "height": 162
        },
        "outputId": "b4f77aae-cf9a-4550-e389-f601f3235a36",
        "id": "f1hXJ35hg57v"
      },
      "outputs": [
        {
          "output_type": "display_data",
          "data": {
            "text/plain": [
              "<Figure size 400x400 with 2 Axes>"
            ],
            "image/png": "[encoded data removed]"
          },
          "metadata": {}
        },
        {
          "output_type": "stream",
          "name": "stdout",
          "text": [
            "--------------------------------------------------\n",
            " accuracy: 0.9934258582907232\n",
            "precision: 0.9936290360725666\n",
            "   recall: 0.9931497948750994\n",
            " f1_score: 0.9933807602052658\n",
            "--------------------------------------------------\n"
          ]
        }
      ],
      "source": [
        "from sklearn.metrics import classification_report,accuracy_score,confusion_matrix\n",
        "from mlxtend.plotting import plot_confusion_matrix\n",
        "from sklearn.metrics import auc\n",
        "import matplotlib.pyplot as plt\n",
        "\n",
        "n_class=4\n",
        "\n",
        "classfi_report=classification_report(lbl_real, lbl_pred,output_dict=True)\n",
        "# save to array\n",
        "accuracy=accuracy_score(lbl_real, lbl_pred)\n",
        "precision=classfi_report['macro avg']['precision']\n",
        "recall= classfi_report['macro avg']['recall']\n",
        "f1_score=classfi_report['macro avg']['f1-score']\n",
        "Con_matrix=confusion_matrix(lbl_real, lbl_pred)\n",
        "fig, ax = plot_confusion_matrix(conf_mat=Con_matrix,\n",
        "                                show_absolute=True,\n",
        "                                show_normed=True,\n",
        "                                colorbar=True,\n",
        "                                figsize=(n_class,n_class) )\n",
        "ax.set_title('confusion_matrix of LSTM_RF ')\n",
        "plt.show()\n",
        "print(\"-\"*50)\n",
        "print(\" accuracy: {0}\".format(accuracy))\n",
        "print(\"precision: {0}\".format(precision))\n",
        "print(\"   recall: {0}\".format(recall))\n",
        "print(\" f1_score: {0}\".format(f1_score))\n",
        "print(\"-\"*50)"
      ]
    }
  ]
}